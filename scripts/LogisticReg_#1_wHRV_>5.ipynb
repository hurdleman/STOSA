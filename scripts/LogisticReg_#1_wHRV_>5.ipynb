{
 "cells": [
  {
   "cell_type": "code",
   "execution_count": 1,
   "metadata": {
    "collapsed": true
   },
   "outputs": [],
   "source": [
    "import pandas as pd\n",
    "import numpy as np\n",
    "import matplotlib\n",
    "import matplotlib.pyplot as plt\n",
    "from sklearn import metrics\n",
    "from sklearn import model_selection\n",
    "from sklearn.linear_model import LogisticRegression\n",
    "from sklearn.feature_selection import RFE\n",
    "from sklearn.model_selection import train_test_split\n",
    "from sklearn.preprocessing import MinMaxScaler\n",
    "from sklearn.preprocessing import Imputer\n",
    "from sklearn.model_selection import cross_val_score\n",
    "from sklearn.metrics import confusion_matrix\n",
    "from scipy import stats\n",
    "from collections import Counter\n",
    "from sklearn.externals.six import StringIO\n",
    "from IPython.display import Image\n",
    "%matplotlib inline"
   ]
  },
  {
   "cell_type": "code",
   "execution_count": 2,
   "metadata": {
    "collapsed": true
   },
   "outputs": [],
   "source": [
    "DataClean = pd.read_csv('/Users/hurdleman/Google Drive/Insight HD/Projects/Sleep Apnea/DataClean_wHRV.csv')"
   ]
  },
  {
   "cell_type": "code",
   "execution_count": 3,
   "metadata": {
    "collapsed": true
   },
   "outputs": [],
   "source": [
    "TargetClean = DataClean.oai0p"
   ]
  },
  {
   "cell_type": "code",
   "execution_count": 4,
   "metadata": {
    "collapsed": true
   },
   "outputs": [],
   "source": [
    "DataClean = DataClean.drop(['oai0p'],1)"
   ]
  },
  {
   "cell_type": "code",
   "execution_count": 5,
   "metadata": {
    "collapsed": true
   },
   "outputs": [],
   "source": [
    "DataClean = pd.read_csv('/Users/hurdleman/Google Drive/Insight HD/Projects/Sleep Apnea/DataClean_wHRV1.csv')\n",
    "DataClean = DataClean.drop(['date25','Unnamed: 0','nsrrid'], axis=1)"
   ]
  },
  {
   "cell_type": "code",
   "execution_count": 6,
   "metadata": {},
   "outputs": [
    {
     "data": {
      "text/html": [
       "<div>\n",
       "<style scoped>\n",
       "    .dataframe tbody tr th:only-of-type {\n",
       "        vertical-align: middle;\n",
       "    }\n",
       "\n",
       "    .dataframe tbody tr th {\n",
       "        vertical-align: top;\n",
       "    }\n",
       "\n",
       "    .dataframe thead th {\n",
       "        text-align: right;\n",
       "    }\n",
       "</style>\n",
       "<table border=\"1\" class=\"dataframe\">\n",
       "  <thead>\n",
       "    <tr style=\"text-align: right;\">\n",
       "      <th></th>\n",
       "      <th>educat</th>\n",
       "      <th>MStat</th>\n",
       "      <th>race</th>\n",
       "      <th>height</th>\n",
       "      <th>Hip</th>\n",
       "      <th>DiasBP</th>\n",
       "      <th>SystBP</th>\n",
       "      <th>INSULN1</th>\n",
       "      <th>ISTRD1</th>\n",
       "      <th>NTCA1</th>\n",
       "      <th>...</th>\n",
       "      <th>pNN40</th>\n",
       "      <th>pNN50</th>\n",
       "      <th>tot_pwr</th>\n",
       "      <th>ULF</th>\n",
       "      <th>VLF</th>\n",
       "      <th>LF</th>\n",
       "      <th>HF</th>\n",
       "      <th>LF_HF</th>\n",
       "      <th>LF_n</th>\n",
       "      <th>HF_n</th>\n",
       "    </tr>\n",
       "  </thead>\n",
       "  <tbody>\n",
       "    <tr>\n",
       "      <th>0</th>\n",
       "      <td>2.0</td>\n",
       "      <td>1.0</td>\n",
       "      <td>3.0</td>\n",
       "      <td>158.0</td>\n",
       "      <td>113.0</td>\n",
       "      <td>80.0</td>\n",
       "      <td>118.0</td>\n",
       "      <td>0.0</td>\n",
       "      <td>0.0</td>\n",
       "      <td>0.0</td>\n",
       "      <td>...</td>\n",
       "      <td>2.702046</td>\n",
       "      <td>2.415208</td>\n",
       "      <td>8.653223</td>\n",
       "      <td>7.333088</td>\n",
       "      <td>7.728508</td>\n",
       "      <td>7.127349</td>\n",
       "      <td>6.523125</td>\n",
       "      <td>0.604278</td>\n",
       "      <td>0.646622</td>\n",
       "      <td>-1.039934</td>\n",
       "    </tr>\n",
       "    <tr>\n",
       "      <th>1</th>\n",
       "      <td>2.0</td>\n",
       "      <td>1.0</td>\n",
       "      <td>1.0</td>\n",
       "      <td>170.0</td>\n",
       "      <td>104.0</td>\n",
       "      <td>90.0</td>\n",
       "      <td>130.0</td>\n",
       "      <td>0.0</td>\n",
       "      <td>0.0</td>\n",
       "      <td>0.0</td>\n",
       "      <td>...</td>\n",
       "      <td>2.744254</td>\n",
       "      <td>2.271610</td>\n",
       "      <td>9.097156</td>\n",
       "      <td>8.174134</td>\n",
       "      <td>8.197195</td>\n",
       "      <td>7.115964</td>\n",
       "      <td>6.253177</td>\n",
       "      <td>0.862831</td>\n",
       "      <td>0.703243</td>\n",
       "      <td>-1.214504</td>\n",
       "    </tr>\n",
       "    <tr>\n",
       "      <th>2</th>\n",
       "      <td>2.0</td>\n",
       "      <td>1.0</td>\n",
       "      <td>1.0</td>\n",
       "      <td>169.0</td>\n",
       "      <td>110.0</td>\n",
       "      <td>70.0</td>\n",
       "      <td>100.0</td>\n",
       "      <td>0.0</td>\n",
       "      <td>0.0</td>\n",
       "      <td>0.0</td>\n",
       "      <td>...</td>\n",
       "      <td>1.189388</td>\n",
       "      <td>0.642496</td>\n",
       "      <td>8.875093</td>\n",
       "      <td>8.573296</td>\n",
       "      <td>6.936051</td>\n",
       "      <td>6.321975</td>\n",
       "      <td>5.626567</td>\n",
       "      <td>0.695460</td>\n",
       "      <td>0.667169</td>\n",
       "      <td>-1.099820</td>\n",
       "    </tr>\n",
       "    <tr>\n",
       "      <th>3</th>\n",
       "      <td>2.0</td>\n",
       "      <td>2.0</td>\n",
       "      <td>3.0</td>\n",
       "      <td>145.0</td>\n",
       "      <td>96.0</td>\n",
       "      <td>74.0</td>\n",
       "      <td>134.0</td>\n",
       "      <td>0.0</td>\n",
       "      <td>0.0</td>\n",
       "      <td>0.0</td>\n",
       "      <td>...</td>\n",
       "      <td>1.827453</td>\n",
       "      <td>1.135394</td>\n",
       "      <td>8.407639</td>\n",
       "      <td>7.813450</td>\n",
       "      <td>7.107507</td>\n",
       "      <td>6.005193</td>\n",
       "      <td>5.942561</td>\n",
       "      <td>0.062721</td>\n",
       "      <td>0.515653</td>\n",
       "      <td>-0.724747</td>\n",
       "    </tr>\n",
       "    <tr>\n",
       "      <th>4</th>\n",
       "      <td>2.0</td>\n",
       "      <td>1.0</td>\n",
       "      <td>1.0</td>\n",
       "      <td>178.0</td>\n",
       "      <td>110.0</td>\n",
       "      <td>72.0</td>\n",
       "      <td>108.0</td>\n",
       "      <td>0.0</td>\n",
       "      <td>0.0</td>\n",
       "      <td>0.0</td>\n",
       "      <td>...</td>\n",
       "      <td>0.088688</td>\n",
       "      <td>-0.679029</td>\n",
       "      <td>7.919134</td>\n",
       "      <td>7.622380</td>\n",
       "      <td>6.152616</td>\n",
       "      <td>4.976327</td>\n",
       "      <td>4.511723</td>\n",
       "      <td>0.464671</td>\n",
       "      <td>0.614106</td>\n",
       "      <td>-0.951934</td>\n",
       "    </tr>\n",
       "  </tbody>\n",
       "</table>\n",
       "<p>5 rows × 91 columns</p>\n",
       "</div>"
      ],
      "text/plain": [
       "   educat  MStat  race  height    Hip  DiasBP  SystBP  INSULN1  ISTRD1  NTCA1  \\\n",
       "0     2.0    1.0   3.0   158.0  113.0    80.0   118.0      0.0     0.0    0.0   \n",
       "1     2.0    1.0   1.0   170.0  104.0    90.0   130.0      0.0     0.0    0.0   \n",
       "2     2.0    1.0   1.0   169.0  110.0    70.0   100.0      0.0     0.0    0.0   \n",
       "3     2.0    2.0   3.0   145.0   96.0    74.0   134.0      0.0     0.0    0.0   \n",
       "4     2.0    1.0   1.0   178.0  110.0    72.0   108.0      0.0     0.0    0.0   \n",
       "\n",
       "     ...        pNN40     pNN50   tot_pwr       ULF       VLF        LF  \\\n",
       "0    ...     2.702046  2.415208  8.653223  7.333088  7.728508  7.127349   \n",
       "1    ...     2.744254  2.271610  9.097156  8.174134  8.197195  7.115964   \n",
       "2    ...     1.189388  0.642496  8.875093  8.573296  6.936051  6.321975   \n",
       "3    ...     1.827453  1.135394  8.407639  7.813450  7.107507  6.005193   \n",
       "4    ...     0.088688 -0.679029  7.919134  7.622380  6.152616  4.976327   \n",
       "\n",
       "         HF     LF_HF      LF_n      HF_n  \n",
       "0  6.523125  0.604278  0.646622 -1.039934  \n",
       "1  6.253177  0.862831  0.703243 -1.214504  \n",
       "2  5.626567  0.695460  0.667169 -1.099820  \n",
       "3  5.942561  0.062721  0.515653 -0.724747  \n",
       "4  4.511723  0.464671  0.614106 -0.951934  \n",
       "\n",
       "[5 rows x 91 columns]"
      ]
     },
     "execution_count": 6,
     "metadata": {},
     "output_type": "execute_result"
    }
   ],
   "source": [
    "DataClean.head()"
   ]
  },
  {
   "cell_type": "code",
   "execution_count": 7,
   "metadata": {},
   "outputs": [
    {
     "name": "stdout",
     "output_type": "stream",
     "text": [
      "(445, 91)\n",
      "(445,)\n"
     ]
    }
   ],
   "source": [
    "print(DataClean.shape)\n",
    "print(TargetClean.shape)"
   ]
  },
  {
   "cell_type": "code",
   "execution_count": 8,
   "metadata": {
    "scrolled": true
   },
   "outputs": [
    {
     "data": {
      "image/png": "[encoded data removed]",
      "text/plain": [
       "<matplotlib.figure.Figure at 0x1231c1a58>"
      ]
     },
     "metadata": {},
     "output_type": "display_data"
    }
   ],
   "source": [
    "histTarget = plt.hist(TargetClean)"
   ]
  },
  {
   "cell_type": "code",
   "execution_count": 9,
   "metadata": {
    "scrolled": true
   },
   "outputs": [
    {
     "data": {
      "image/png": "[encoded data removed]",
      "text/plain": [
       "<matplotlib.figure.Figure at 0x11bd7e9e8>"
      ]
     },
     "metadata": {},
     "output_type": "display_data"
    }
   ],
   "source": [
    "TargetCleanClass5 = []\n",
    "for ii in range(TargetClean.shape[0]):\n",
    "    if TargetClean[ii] < 5:\n",
    "        TargetCleanClass5.append(0)\n",
    "    else:\n",
    "        TargetCleanClass5.append(1)\n",
    "histTarget5 = plt.hist(TargetCleanClass5)"
   ]
  },
  {
   "cell_type": "code",
   "execution_count": 278,
   "metadata": {},
   "outputs": [],
   "source": [
    "DataClean = DataClean[['Hip', 'ISTRD1', 'CRBRON15', 'PHLEGM15', 'SitRd02', 'HOSnr02', 'BEER10',\n",
    "                    'COFFEE10', 'HvSnrd02', 'StpBrt02', 'age_s1', 'NECK20', 'gender', 'B','NN_RR', \n",
    "                     'AVNN', 'IHR','SDNN', 'SDANN', 'SDNNIDX', 'rMSSD', 'pNN10', 'pNN20', 'pNN30',\n",
    "                     'pNN40', 'pNN50', 'tot_pwr', 'ULF', 'VLF', 'LF', 'HF', 'LF_HF','LF_n', 'HF_n']]\n",
    "y_train5 = TargetCleanClass5"
   ]
  },
  {
   "cell_type": "code",
   "execution_count": 279,
   "metadata": {},
   "outputs": [
    {
     "data": {
      "text/plain": [
       "array(['Hip', 'ISTRD1', 'CRBRON15', 'PHLEGM15', 'SitRd02', 'HOSnr02',\n",
       "       'BEER10', 'COFFEE10', 'HvSnrd02', 'StpBrt02', 'age_s1', 'NECK20',\n",
       "       'gender', 'B', 'NN_RR', 'AVNN', 'IHR', 'SDNN', 'SDANN', 'SDNNIDX',\n",
       "       'rMSSD', 'pNN10', 'pNN20', 'pNN30', 'pNN40', 'pNN50', 'tot_pwr',\n",
       "       'ULF', 'VLF', 'LF', 'HF', 'LF_HF', 'LF_n', 'HF_n'], dtype=object)"
      ]
     },
     "execution_count": 279,
     "metadata": {},
     "output_type": "execute_result"
    }
   ],
   "source": [
    "DataClean.columns.values"
   ]
  },
  {
   "cell_type": "code",
   "execution_count": 280,
   "metadata": {},
   "outputs": [],
   "source": [
    "# Make a train/test split using 20% test size\n",
    "X_train, X_test, y_train5, y_test5 , y_trainSW, y_testSW = train_test_split(\n",
    "    DataClean, TargetCleanClass5,  TargetClean, test_size=0.35, random_state=42)"
   ]
  },
  {
   "cell_type": "code",
   "execution_count": 281,
   "metadata": {
    "collapsed": true
   },
   "outputs": [],
   "source": [
    "imp = Imputer(missing_values='NaN', strategy='median', axis=0)\n",
    "imp.fit(X_train)\n",
    "X_train = imp.transform(X_train)\n",
    "\n",
    "mixmax = MinMaxScaler().fit(X_train)\n",
    "X_train = mixmax.transform(X_train)\n",
    "\n",
    "imp = Imputer(missing_values='NaN', strategy='median', axis=0)\n",
    "imp.fit(X_test)\n",
    "X_test = imp.transform(X_test)\n",
    "X_test = mixmax.transform(X_test)"
   ]
  },
  {
   "cell_type": "code",
   "execution_count": 282,
   "metadata": {},
   "outputs": [
    {
     "name": "stdout",
     "output_type": "stream",
     "text": [
      "Optimal number of features : 34\n"
     ]
    }
   ],
   "source": [
    "from sklearn.model_selection import StratifiedKFold\n",
    "from sklearn.feature_selection import RFECV\n",
    "\n",
    "LReg = LogisticRegression(class_weight='balanced', C= 10)\n",
    "\n",
    "rfecv = RFECV(estimator=LReg, step=1, cv=StratifiedKFold(10),\n",
    "              scoring='roc_auc')\n",
    "rfecv.fit(X_train, y_train5)\n",
    "print(\"Optimal number of features : %d\" % rfecv.n_features_)"
   ]
  },
  {
   "cell_type": "code",
   "execution_count": 283,
   "metadata": {},
   "outputs": [
    {
     "data": {
      "image/png": "[encoded data removed]",
      "text/plain": [
       "<matplotlib.figure.Figure at 0x123a8d198>"
      ]
     },
     "metadata": {},
     "output_type": "display_data"
    }
   ],
   "source": [
    "plt.figure()\n",
    "\n",
    "plt.plot(range(1, len(rfecv.grid_scores_) + 1), rfecv.grid_scores_)\n",
    "plt.xlabel(\"Number of features selected\", fontsize= 15)\n",
    "plt.ylabel(\"Cross validation score \\n(# of correct classifications)\", fontsize= 15)\n",
    "plt.tight_layout()\n",
    "\n",
    "plt.savefig('/Users/hurdleman/Google Drive/Insight HD/Projects/Sleep Apnea/figure/RFECV_LReg_wHRV.png',\n",
    "           dpi = 300)"
   ]
  },
  {
   "cell_type": "code",
   "execution_count": 284,
   "metadata": {},
   "outputs": [],
   "source": [
    "# LReg = LogisticRegression(class_weight='balanced')\n",
    "\n",
    "\n",
    "# rfe = RFE(estimator=LReg, n_features_to_select=14, step=1)\n",
    "# rfe.fit(X_train, y_train5)\n",
    "# # ranking = rfe.ranking_.reshape(digits.images[0].shape)"
   ]
  },
  {
   "cell_type": "code",
   "execution_count": 285,
   "metadata": {},
   "outputs": [
    {
     "data": {
      "text/plain": [
       "(array([ 0,  1,  2,  3,  4,  5,  6,  7,  8,  9, 10, 11, 12, 13, 14, 15, 16,\n",
       "        17, 18, 19, 20, 21, 22, 23, 24, 25, 26, 27, 28, 29, 30, 31, 32, 33]),)"
      ]
     },
     "execution_count": 285,
     "metadata": {},
     "output_type": "execute_result"
    }
   ],
   "source": [
    "idx = np.where(rfecv.ranking_ == 1)\n",
    "# (array([ 0,  3,  8, 10, 11, 14, 22, 34, 37, 39, 44, 48]),)\n",
    "idx"
   ]
  },
  {
   "cell_type": "code",
   "execution_count": 286,
   "metadata": {},
   "outputs": [
    {
     "data": {
      "text/plain": [
       "array(['Hip', 'ISTRD1', 'CRBRON15', 'PHLEGM15', 'SitRd02', 'HOSnr02',\n",
       "       'BEER10', 'COFFEE10', 'HvSnrd02', 'StpBrt02', 'age_s1', 'NECK20',\n",
       "       'gender', 'B', 'NN_RR', 'AVNN', 'IHR', 'SDNN', 'SDANN', 'SDNNIDX',\n",
       "       'rMSSD', 'pNN10', 'pNN20', 'pNN30', 'pNN40', 'pNN50', 'tot_pwr',\n",
       "       'ULF', 'VLF', 'LF', 'HF', 'LF_HF', 'LF_n', 'HF_n'], dtype=object)"
      ]
     },
     "execution_count": 286,
     "metadata": {},
     "output_type": "execute_result"
    }
   ],
   "source": [
    "DataClean.columns.values[idx]"
   ]
  },
  {
   "cell_type": "code",
   "execution_count": 287,
   "metadata": {
    "collapsed": true
   },
   "outputs": [],
   "source": [
    "X_train15 = X_train\n",
    "X_test15 = X_test"
   ]
  },
  {
   "cell_type": "code",
   "execution_count": 288,
   "metadata": {
    "collapsed": true
   },
   "outputs": [],
   "source": [
    "X_train15 = X_train[:,rfecv.ranking_ == 1]\n",
    "X_test15 = X_test[:,rfecv.ranking_ == 1]\n",
    "# F2 score\n",
    "# recall\n",
    "# ROC curve"
   ]
  },
  {
   "cell_type": "code",
   "execution_count": 289,
   "metadata": {
    "collapsed": true
   },
   "outputs": [],
   "source": [
    "# clf = svm.SVC(class_weight='balanced',probability = True)\n",
    "clf = LogisticRegression(class_weight='balanced')"
   ]
  },
  {
   "cell_type": "code",
   "execution_count": 290,
   "metadata": {
    "collapsed": true
   },
   "outputs": [],
   "source": [
    "ftwo_scorer = metrics.make_scorer(metrics.fbeta_score, beta=2)\n",
    "Specificity_scorer = metrics.make_scorer(metrics.recall_score, pos_label=0)"
   ]
  },
  {
   "cell_type": "code",
   "execution_count": 291,
   "metadata": {},
   "outputs": [
    {
     "name": "stdout",
     "output_type": "stream",
     "text": [
      "0.77\n"
     ]
    }
   ],
   "source": [
    "scores = cross_val_score(clf,X_train15, y_train5, cv = 10, scoring = 'recall')\n",
    "scores\n",
    "print(np.mean(scores))"
   ]
  },
  {
   "cell_type": "code",
   "execution_count": 292,
   "metadata": {
    "collapsed": true
   },
   "outputs": [],
   "source": [
    "clf.fit(X_train15,y_train5)\n",
    "y_predTrain = clf.predict(X_train15)"
   ]
  },
  {
   "cell_type": "code",
   "execution_count": 293,
   "metadata": {
    "scrolled": true
   },
   "outputs": [
    {
     "data": {
      "text/plain": [
       "(0.0, 1.0)"
      ]
     },
     "execution_count": 293,
     "metadata": {},
     "output_type": "execute_result"
    },
    {
     "data": {
      "image/png": "[encoded data removed]",
      "text/plain": [
       "<matplotlib.figure.Figure at 0x123a89780>"
      ]
     },
     "metadata": {},
     "output_type": "display_data"
    }
   ],
   "source": [
    "precision, recall, _ = metrics.precision_recall_curve(y_train5, clf.predict_proba(X_train15)[:,1])\n",
    "\n",
    "plt.step(recall, precision, color='b', alpha=0.2,\n",
    "         where='post')\n",
    "plt.fill_between(recall, precision, step='post', alpha=0.2,\n",
    "                 color='b')\n",
    "\n",
    "plt.xlabel('Recall')\n",
    "plt.ylabel('Precision')\n",
    "plt.ylim([0.0, 1.05])\n",
    "plt.xlim([0.0, 1.0])\n",
    "# plt.title('2-class Precision-Recall curve: AP={0:0.2f}'.format(\n",
    "#           average_precision))"
   ]
  },
  {
   "cell_type": "code",
   "execution_count": 294,
   "metadata": {
    "scrolled": true
   },
   "outputs": [
    {
     "name": "stdout",
     "output_type": "stream",
     "text": [
      "[[184  61]\n",
      " [  5  39]]\n"
     ]
    }
   ],
   "source": [
    "confusion_matrix_train = confusion_matrix(y_train5, clf.predict(X_train15))\n",
    "print(confusion_matrix_train)"
   ]
  },
  {
   "cell_type": "code",
   "execution_count": 295,
   "metadata": {},
   "outputs": [
    {
     "name": "stdout",
     "output_type": "stream",
     "text": [
      "recall: 0.886\n",
      "precision: 0.390\n",
      "accuracy: 0.772\n",
      "F2: 0.707\n"
     ]
    }
   ],
   "source": [
    "recalltrain = metrics.recall_score(y_train5, y_predTrain)\n",
    "precisiontrain = metrics.precision_score(y_train5, y_predTrain)\n",
    "accuracytrain = metrics.accuracy_score(y_train5, y_predTrain)\n",
    "f2train = metrics.fbeta_score(y_train5, y_predTrain, beta = 2)\n",
    "print('recall: %.3f' % recalltrain)\n",
    "print('precision: %.3f' % precisiontrain)\n",
    "print('accuracy: %.3f' % accuracytrain)\n",
    "print('F2: %.3f' % f2train)"
   ]
  },
  {
   "cell_type": "code",
   "execution_count": 296,
   "metadata": {},
   "outputs": [
    {
     "name": "stdout",
     "output_type": "stream",
     "text": [
      "{'penalty': ['l1', 'l2'], 'C': [0.001, 0.01, 0.1, 1, 10, 100]}\n"
     ]
    }
   ],
   "source": [
    "from sklearn.model_selection import GridSearchCV\n",
    "penalty = ['l1','l2']\n",
    "C = [0.001,0.01,0.1,1,10,100]\n",
    "# Create the random grid\n",
    "parameters = {'penalty': penalty,\n",
    "               'C': C,}\n",
    "print(parameters)"
   ]
  },
  {
   "cell_type": "code",
   "execution_count": 297,
   "metadata": {
    "scrolled": false
   },
   "outputs": [
    {
     "data": {
      "text/plain": [
       "{'C': 1, 'penalty': 'l2'}"
      ]
     },
     "execution_count": 297,
     "metadata": {},
     "output_type": "execute_result"
    }
   ],
   "source": [
    "# Use the random grid to search for best hyperparameters\n",
    "# First create the base model to tune\n",
    "LReg = LogisticRegression(class_weight='balanced', max_iter = 500)\n",
    "# Random search of parameters, using 3 fold cross validation, \n",
    "# search across 100 different combinations, and use all available cores\n",
    "LReg_GridCV = GridSearchCV(LReg, parameters, scoring = 'roc_auc', cv = 5, verbose=0, n_jobs = -1)\n",
    "# Fit the random search model\n",
    "LReg_GridCV.fit(X_train15, y_train5)\n",
    "LReg_GridCV.best_params_"
   ]
  },
  {
   "cell_type": "code",
   "execution_count": 298,
   "metadata": {},
   "outputs": [
    {
     "name": "stdout",
     "output_type": "stream",
     "text": [
      "{'penalty': ['l1', 'l2'], 'C': [0.3, 0.5, 1, 2.5, 5.0]}\n"
     ]
    }
   ],
   "source": [
    "from sklearn.model_selection import GridSearchCV\n",
    "penalty = ['l1','l2']\n",
    "C = [.3,.5,1,2.5,5.0]\n",
    "# C = [3,5,10,25,50]\n",
    "# C = [30,50,100,250,500]\n",
    "# C = [.30,.50,1.00,2.50,5.00]\n",
    "\n",
    "\n",
    "# Create the random grid\n",
    "parameters = {'penalty': penalty,\n",
    "               'C': C,}\n",
    "print(parameters)"
   ]
  },
  {
   "cell_type": "code",
   "execution_count": 299,
   "metadata": {
    "scrolled": false
   },
   "outputs": [
    {
     "data": {
      "text/plain": [
       "{'C': 1, 'penalty': 'l2'}"
      ]
     },
     "execution_count": 299,
     "metadata": {},
     "output_type": "execute_result"
    }
   ],
   "source": [
    "# Use the random grid to search for best hyperparameters\n",
    "# First create the base model to tune\n",
    "LReg = LogisticRegression(class_weight='balanced', max_iter = 500)\n",
    "# Random search of parameters, using 3 fold cross validation, \n",
    "# search across 100 different combinations, and use all available cores\n",
    "LReg_GridCV = GridSearchCV(LReg, parameters, scoring = 'roc_auc', cv = 5, verbose=0, n_jobs = -1)\n",
    "# Fit the random search model\n",
    "LReg_GridCV.fit(X_train15, y_train5)\n",
    "LReg_GridCV.best_params_"
   ]
  },
  {
   "cell_type": "code",
   "execution_count": 246,
   "metadata": {},
   "outputs": [
    {
     "name": "stdout",
     "output_type": "stream",
     "text": [
      "{'penalty': ['l1', 'l2'], 'C': [30, 40, 50, 60, 70]}\n"
     ]
    }
   ],
   "source": [
    "from sklearn.model_selection import GridSearchCV\n",
    "penalty = ['l1','l2']\n",
    "# C = [15,20,30,42,45]\n",
    "C = [30,40,50,60,70]\n",
    "# C = [.30,.40,.50,.60,.70]\n",
    "# Create the random grid\n",
    "parameters = {'penalty': penalty,\n",
    "               'C': C,}\n",
    "print(parameters)"
   ]
  },
  {
   "cell_type": "code",
   "execution_count": 247,
   "metadata": {
    "scrolled": false
   },
   "outputs": [
    {
     "data": {
      "text/plain": [
       "{'C': 50, 'penalty': 'l2'}"
      ]
     },
     "execution_count": 247,
     "metadata": {},
     "output_type": "execute_result"
    }
   ],
   "source": [
    "# Use the random grid to search for best hyperparameters\n",
    "# First create the base model to tune\n",
    "LReg = LogisticRegression(class_weight='balanced', max_iter = 500)\n",
    "# Random search of parameters, using 3 fold cross validation, \n",
    "# search across 100 different combinations, and use all available cores\n",
    "LReg_GridCV = GridSearchCV(LReg, parameters, scoring = 'roc_auc', cv = 5, verbose=0, n_jobs = -1)\n",
    "# Fit the random search model\n",
    "LReg_GridCV.fit(X_train15, y_train5)\n",
    "LReg_GridCV.best_params_"
   ]
  },
  {
   "cell_type": "code",
   "execution_count": 300,
   "metadata": {},
   "outputs": [
    {
     "data": {
      "text/plain": [
       "{'C': 1, 'penalty': 'l2'}"
      ]
     },
     "execution_count": 300,
     "metadata": {},
     "output_type": "execute_result"
    }
   ],
   "source": [
    "LReg_GridCV.best_params_"
   ]
  },
  {
   "cell_type": "code",
   "execution_count": 301,
   "metadata": {
    "collapsed": true
   },
   "outputs": [],
   "source": [
    "# clf = svm.SVC(class_weight='balanced',probability = True)\n",
    "clfTuned = LReg_GridCV.best_estimator_"
   ]
  },
  {
   "cell_type": "code",
   "execution_count": 302,
   "metadata": {
    "collapsed": true
   },
   "outputs": [],
   "source": [
    "clfTuned.fit(X_train15,y_train5)\n",
    "y_predTrain = clfTuned.predict(X_train15)"
   ]
  },
  {
   "cell_type": "code",
   "execution_count": 303,
   "metadata": {
    "collapsed": true,
    "scrolled": true
   },
   "outputs": [],
   "source": [
    "recalltrain = cross_val_score(clfTuned,X_train15, y_train5, cv = 5, n_jobs = -1, scoring = 'recall')\n",
    "specificitytrain = cross_val_score(clfTuned,X_train15, y_train5, cv = 5, n_jobs = -1, scoring = Specificity_scorer)\n",
    "precisiontrain = cross_val_score(clfTuned,X_train15, y_train5, cv = 5, n_jobs = -1, scoring = 'precision')\n",
    "accuracytrain = cross_val_score(clfTuned,X_train15, y_train5, cv = 5, n_jobs = -1, scoring = 'accuracy')\n",
    "f2train = cross_val_score(clfTuned,X_train15, y_train5, cv = 5, n_jobs = -1, scoring = ftwo_scorer)"
   ]
  },
  {
   "cell_type": "code",
   "execution_count": 304,
   "metadata": {
    "scrolled": true
   },
   "outputs": [
    {
     "name": "stdout",
     "output_type": "stream",
     "text": [
      "recall: 0.772\n",
      "specificity: 0.739\n",
      "precision: 0.355\n",
      "accuracy: 0.744\n",
      "F2: 0.616\n"
     ]
    }
   ],
   "source": [
    "print('recall: %.3f' % np.mean(recalltrain))\n",
    "print('specificity: %.3f' % np.mean(specificitytrain))\n",
    "print('precision: %.3f' % np.mean(precisiontrain))\n",
    "print('accuracy: %.3f' % np.mean(accuracytrain))\n",
    "print('F2: %.3f' % np.mean(f2train))"
   ]
  },
  {
   "cell_type": "code",
   "execution_count": 305,
   "metadata": {},
   "outputs": [
    {
     "data": {
      "image/png": "[encoded data removed]",
      "text/plain": [
       "<matplotlib.figure.Figure at 0x12755afd0>"
      ]
     },
     "metadata": {},
     "output_type": "display_data"
    }
   ],
   "source": [
    "from scipy import interp\n",
    "from itertools import cycle\n",
    "\n",
    "from sklearn.metrics import roc_curve, auc\n",
    "from sklearn.model_selection import StratifiedKFold\n",
    "\n",
    "n_samples, n_features = X_train15.shape\n",
    "y_train5 = np.asarray(y_train5)\n",
    "# #############################################################################\n",
    "# Classification and ROC analysis\n",
    "\n",
    "# Run classifier with cross-validation and plot ROC curves\n",
    "cv = StratifiedKFold(n_splits=6)\n",
    "classifier = LReg_GridCV.best_estimator_\n",
    "\n",
    "tprs = []\n",
    "aucs = []\n",
    "mean_fpr = np.linspace(0, 1, 100)\n",
    "\n",
    "i = 0\n",
    "for train, test in cv.split(X_train15, y_train5):\n",
    "    probas_ = classifier.fit(X_train15[train], y_train5[train]).predict_proba(X_train15[test])\n",
    "    # Compute ROC curve and area the curve\n",
    "    fpr, tpr, thresholds = roc_curve(y_train5[test], probas_[:, 1])\n",
    "    tprs.append(interp(mean_fpr, fpr, tpr))\n",
    "    tprs[-1][0] = 0.0\n",
    "    roc_auc = auc(fpr, tpr)\n",
    "    aucs.append(roc_auc)\n",
    "#     plt.plot(fpr, tpr, lw=1, alpha=0.3,\n",
    "#              label='ROC fold %d (AUC = %0.2f)' % (i, roc_auc))\n",
    "\n",
    "    i += 1\n",
    "plt.plot([0, 1], [0, 1], linestyle='--', lw=2, color='r',\n",
    "         label='Luck', alpha=.8)\n",
    "\n",
    "mean_tpr = np.mean(tprs, axis=0)\n",
    "mean_tpr[-1] = 1.0\n",
    "mean_auc = auc(mean_fpr, mean_tpr)\n",
    "std_auc = np.std(aucs)\n",
    "plt.plot(mean_fpr, mean_tpr, color='b',\n",
    "         label=r'Mean ROC (AUC = %0.2f $\\pm$ %0.2f)' % (mean_auc, std_auc),\n",
    "         lw=2, alpha=.8)\n",
    "\n",
    "std_tpr = np.std(tprs, axis=0)\n",
    "tprs_upper = np.minimum(mean_tpr + std_tpr, 1)\n",
    "tprs_lower = np.maximum(mean_tpr - std_tpr, 0)\n",
    "plt.fill_between(mean_fpr, tprs_lower, tprs_upper, color='grey', alpha=.2,\n",
    "                 label=r'$\\pm$ 1 std. dev.')\n",
    "\n",
    "plt.xlim([-0.05, 1.05])\n",
    "plt.ylim([-0.05, 1.05])\n",
    "plt.xlabel('False Positive Rate \\n(1-Specificity)', fontsize= 15)\n",
    "plt.ylabel('True Positive Rate \\n(Sensitivity)', fontsize= 15)\n",
    "plt.title('Receiver operating characteristic curve', fontsize= 16)\n",
    "plt.legend(loc=\"lower right\", fontsize= 12)\n",
    "plt.savefig('/Users/hurdleman/Google Drive/Insight HD/Projects/Sleep Apnea/figure/ROC_LReg_train_wHRV.png',\n",
    "           dpi = 300)"
   ]
  },
  {
   "cell_type": "code",
   "execution_count": 306,
   "metadata": {
    "collapsed": true
   },
   "outputs": [],
   "source": [
    "y_predTest = clfTuned.predict(X_test15)"
   ]
  },
  {
   "cell_type": "code",
   "execution_count": 307,
   "metadata": {},
   "outputs": [
    {
     "name": "stdout",
     "output_type": "stream",
     "text": [
      "recall: 0.767\n",
      "precision: 0.411\n",
      "accuracy: 0.744\n",
      "F2: 0.653\n"
     ]
    }
   ],
   "source": [
    "recalltest = metrics.recall_score(y_test5, y_predTest)\n",
    "precisiontest = metrics.precision_score(y_test5, y_predTest)\n",
    "accuracytest = metrics.accuracy_score(y_test5, y_predTest)\n",
    "f2test = metrics.fbeta_score(y_test5, y_predTest, beta = 2)\n",
    "print('recall: %.3f' % recalltest)\n",
    "print('precision: %.3f' % precisiontest)\n",
    "print('accuracy: %.3f' % accuracytest)\n",
    "print('F2: %.3f' % f2test)"
   ]
  },
  {
   "cell_type": "code",
   "execution_count": 308,
   "metadata": {
    "collapsed": true
   },
   "outputs": [],
   "source": [
    "CM_clfTuned_test = confusion_matrix(y_test5, y_predTest)"
   ]
  },
  {
   "cell_type": "code",
   "execution_count": 309,
   "metadata": {
    "scrolled": true
   },
   "outputs": [
    {
     "data": {
      "text/plain": [
       "array([[93, 33],\n",
       "       [ 7, 23]])"
      ]
     },
     "execution_count": 309,
     "metadata": {},
     "output_type": "execute_result"
    }
   ],
   "source": [
    "CM_clfTuned_test"
   ]
  },
  {
   "cell_type": "code",
   "execution_count": 310,
   "metadata": {},
   "outputs": [
    {
     "name": "stdout",
     "output_type": "stream",
     "text": [
      "             precision    recall  f1-score   support\n",
      "\n",
      "          0       0.93      0.74      0.82       126\n",
      "          1       0.41      0.77      0.53        30\n",
      "\n",
      "avg / total       0.83      0.74      0.77       156\n",
      "\n"
     ]
    }
   ],
   "source": [
    "print(metrics.classification_report(y_test5, clfTuned.predict(X_test15)))"
   ]
  },
  {
   "cell_type": "code",
   "execution_count": 312,
   "metadata": {},
   "outputs": [
    {
     "data": {
      "image/png": "[encoded data removed]",
      "text/plain": [
       "<matplotlib.figure.Figure at 0x123a53ba8>"
      ]
     },
     "metadata": {},
     "output_type": "display_data"
    }
   ],
   "source": [
    "from sklearn.metrics import roc_auc_score\n",
    "from sklearn.metrics import roc_curve\n",
    "logit_roc_auc = roc_auc_score(y_test5, clfTuned.predict(X_test15))\n",
    "fpr, tpr, thresholds = roc_curve(y_test5, clfTuned.predict_proba(X_test15)[:,1])\n",
    "plt.figure()\n",
    "plt.plot(fpr, tpr, label='Logistic Regression (area = %0.2f)' % logit_roc_auc)\n",
    "plt.plot([0, 1], [0, 1],'r--')\n",
    "plt.xlim([0.0, 1.0])\n",
    "plt.ylim([0.0, 1.05])\n",
    "plt.xlabel('False Positive Rate')\n",
    "plt.ylabel('True Positive Rate')\n",
    "plt.title('Receiver operating characteristic')\n",
    "plt.legend(loc=\"lower right\")\n",
    "plt.savefig('Log_ROC')\n",
    "plt.savefig('/Users/hurdleman/Google Drive/Insight HD/Projects/Sleep Apnea/figure/ROC_LReg_wHRV_test.png')"
   ]
  },
  {
   "cell_type": "code",
   "execution_count": 313,
   "metadata": {},
   "outputs": [
    {
     "name": "stderr",
     "output_type": "stream",
     "text": [
      "/Users/hurdleman/anaconda/lib/python3.6/site-packages/ipykernel_launcher.py:33: MatplotlibDeprecationWarning: pyplot.hold is deprecated.\n",
      "    Future behavior will be consistent with the long-time default:\n",
      "    plot commands add elements without first clearing the\n",
      "    Axes and/or Figure.\n",
      "/Users/hurdleman/anaconda/lib/python3.6/site-packages/matplotlib/__init__.py:805: MatplotlibDeprecationWarning: axes.hold is deprecated. Please remove it from your matplotlibrc and/or style files.\n",
      "  mplDeprecation)\n",
      "/Users/hurdleman/anaconda/lib/python3.6/site-packages/matplotlib/rcsetup.py:155: MatplotlibDeprecationWarning: axes.hold is deprecated, will be removed in 3.0\n",
      "  mplDeprecation)\n",
      "/Users/hurdleman/anaconda/lib/python3.6/site-packages/ipykernel_launcher.py:56: MatplotlibDeprecationWarning: pyplot.hold is deprecated.\n",
      "    Future behavior will be consistent with the long-time default:\n",
      "    plot commands add elements without first clearing the\n",
      "    Axes and/or Figure.\n",
      "/Users/hurdleman/anaconda/lib/python3.6/site-packages/matplotlib/__init__.py:805: MatplotlibDeprecationWarning: axes.hold is deprecated. Please remove it from your matplotlibrc and/or style files.\n",
      "  mplDeprecation)\n",
      "/Users/hurdleman/anaconda/lib/python3.6/site-packages/matplotlib/rcsetup.py:155: MatplotlibDeprecationWarning: axes.hold is deprecated, will be removed in 3.0\n",
      "  mplDeprecation)\n"
     ]
    },
    {
     "data": {
      "image/png": "[encoded data removed]",
      "text/plain": [
       "<matplotlib.figure.Figure at 0x12755ac50>"
      ]
     },
     "metadata": {},
     "output_type": "display_data"
    }
   ],
   "source": [
    "from scipy import interp\n",
    "from itertools import cycle\n",
    "\n",
    "from sklearn.metrics import roc_curve, auc\n",
    "from sklearn.model_selection import StratifiedKFold\n",
    "\n",
    "n_samples, n_features = X_train15.shape\n",
    "y_train5 = np.asarray(y_train5)\n",
    "# #############################################################################\n",
    "# Classification and ROC analysis\n",
    "\n",
    "# Run classifier with cross-validation and plot ROC curves\n",
    "cv = StratifiedKFold(n_splits=6)\n",
    "classifier = LReg_GridCV.best_estimator_\n",
    "\n",
    "tprs = []\n",
    "aucs = []\n",
    "mean_fpr = np.linspace(0, 1, 100)\n",
    "\n",
    "i = 0\n",
    "for train, test in cv.split(X_train15, y_train5):\n",
    "    probas_ = classifier.fit(X_train15[train], y_train5[train]).predict_proba(X_train15[test])\n",
    "    # Compute ROC curve and area the curve\n",
    "    fpr, tpr, thresholds = roc_curve(y_train5[test], probas_[:, 1])\n",
    "    tprs.append(interp(mean_fpr, fpr, tpr))\n",
    "    tprs[-1][0] = 0.0\n",
    "    roc_auc = auc(fpr, tpr)\n",
    "    aucs.append(roc_auc)\n",
    "#     plt.plot(fpr, tpr, lw=1, alpha=0.3,\n",
    "#              label='ROC fold %d (AUC = %0.2f)' % (i, roc_auc))\n",
    "\n",
    "    i += 1\n",
    "plt.hold(True)\n",
    "\n",
    "\n",
    "plt.plot([0, 1], [0, 1], linestyle='--', lw=2, color='r',\n",
    "         label='Luck', alpha=.8)\n",
    "\n",
    "mean_tpr = np.mean(tprs, axis=0)\n",
    "mean_tpr[-1] = 1.0\n",
    "mean_auc = auc(mean_fpr, mean_tpr)\n",
    "std_auc = np.std(aucs)\n",
    "plt.plot(mean_fpr, mean_tpr, color='b',\n",
    "         label=r'Train ROC with CV (AUC = %0.2f $\\pm$ %0.2f)' % (mean_auc, std_auc),\n",
    "         lw=2, alpha=.8)\n",
    "\n",
    "std_tpr = np.std(tprs, axis=0)\n",
    "tprs_upper = np.minimum(mean_tpr + std_tpr, 1)\n",
    "tprs_lower = np.maximum(mean_tpr - std_tpr, 0)\n",
    "# plt.fill_between(mean_fpr, tprs_lower, tprs_upper, color='grey', alpha=.2,\n",
    "#                  label=r'$\\pm$ 1 std. dev.')\n",
    "plt.fill_between(mean_fpr, tprs_lower, tprs_upper, color='grey', alpha=.2)\n",
    "logit_roc_auc = roc_auc_score(y_test5, clfTuned.predict(X_test15))\n",
    "fpr, tpr, thresholds = roc_curve(y_test5, clfTuned.predict_proba(X_test15)[:,1])\n",
    "plt.plot(fpr, tpr, label='Test ROC (AUC = %0.2f)' % logit_roc_auc)\n",
    "plt.hold(False)\n",
    "plt.xlim([-0.05, 1.05])\n",
    "plt.ylim([-0.05, 1.05])\n",
    "plt.xlabel('False Positive Rate \\n(1-Specificity)', fontsize= 15)\n",
    "plt.ylabel('True Positive Rate \\n(Sensitivity)', fontsize= 15)\n",
    "plt.title('Receiver operating characteristic', fontsize= 16)\n",
    "plt.legend(loc=\"lower right\", fontsize= 11)\n",
    "plt.tight_layout()\n",
    "plt.savefig('/Users/hurdleman/Google Drive/Insight HD/Projects/Sleep Apnea/figure/ROC_LReg_wHRV_Overlay.png',\n",
    "           dpi = 300)"
   ]
  },
  {
   "cell_type": "code",
   "execution_count": null,
   "metadata": {
    "collapsed": true
   },
   "outputs": [],
   "source": [
    "#https://towardsdatascience.com/building-a-logistic-regression-in-python-step-by-step-becd4d56c9c8"
   ]
  }
 ],
 "metadata": {
  "kernelspec": {
   "display_name": "Python 3",
   "language": "python",
   "name": "python3"
  },
  "language_info": {
   "codemirror_mode": {
    "name": "ipython",
    "version": 3
   },
   "file_extension": ".py",
   "mimetype": "text/x-python",
   "name": "python",
   "nbconvert_exporter": "python",
   "pygments_lexer": "ipython3",
   "version": "3.6.1"
  }
 },
 "nbformat": 4,
 "nbformat_minor": 2
}
