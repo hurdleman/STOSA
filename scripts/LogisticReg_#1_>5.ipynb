{
 "cells": [
  {
   "cell_type": "code",
   "execution_count": 1,
   "metadata": {
    "collapsed": true
   },
   "outputs": [],
   "source": [
    "import pandas as pd\n",
    "import numpy as np\n",
    "import matplotlib\n",
    "import matplotlib.pyplot as plt\n",
    "from sklearn import metrics\n",
    "from sklearn import model_selection\n",
    "from sklearn.linear_model import LogisticRegression\n",
    "from sklearn.feature_selection import RFE\n",
    "from sklearn.model_selection import train_test_split\n",
    "from sklearn.preprocessing import MinMaxScaler\n",
    "from sklearn.preprocessing import Imputer\n",
    "from sklearn.model_selection import cross_val_score\n",
    "from sklearn.metrics import confusion_matrix\n",
    "from scipy import stats\n",
    "from collections import Counter\n",
    "from sklearn.externals.six import StringIO\n",
    "from IPython.display import Image\n",
    "import seaborn as sns\n",
    "%matplotlib inline"
   ]
  },
  {
   "cell_type": "code",
   "execution_count": 2,
   "metadata": {
    "collapsed": true
   },
   "outputs": [],
   "source": [
    "DataClean = pd.read_csv('/Users/hurdleman/Google Drive/Insight HD/Projects/Sleep Apnea/DataClean.csv')\n",
    "DataClean = DataClean.drop(['Unnamed: 0','date25','nsrrid', 'S', 'O', 'P', 'G'], axis=1)"
   ]
  },
  {
   "cell_type": "code",
   "execution_count": 3,
   "metadata": {},
   "outputs": [
    {
     "data": {
      "text/html": [
       "<div>\n",
       "<style scoped>\n",
       "    .dataframe tbody tr th:only-of-type {\n",
       "        vertical-align: middle;\n",
       "    }\n",
       "\n",
       "    .dataframe tbody tr th {\n",
       "        vertical-align: top;\n",
       "    }\n",
       "\n",
       "    .dataframe thead th {\n",
       "        text-align: right;\n",
       "    }\n",
       "</style>\n",
       "<table border=\"1\" class=\"dataframe\">\n",
       "  <thead>\n",
       "    <tr style=\"text-align: right;\">\n",
       "      <th></th>\n",
       "      <th>educat</th>\n",
       "      <th>MStat</th>\n",
       "      <th>race</th>\n",
       "      <th>height</th>\n",
       "      <th>Hip</th>\n",
       "      <th>DiasBP</th>\n",
       "      <th>SystBP</th>\n",
       "      <th>INSULN1</th>\n",
       "      <th>ISTRD1</th>\n",
       "      <th>NTCA1</th>\n",
       "      <th>...</th>\n",
       "      <th>StpBrt02</th>\n",
       "      <th>SRHype</th>\n",
       "      <th>bmi_s1</th>\n",
       "      <th>age_s1</th>\n",
       "      <th>NECK20</th>\n",
       "      <th>gender</th>\n",
       "      <th>T</th>\n",
       "      <th>B</th>\n",
       "      <th>A</th>\n",
       "      <th>N</th>\n",
       "    </tr>\n",
       "  </thead>\n",
       "  <tbody>\n",
       "    <tr>\n",
       "      <th>0</th>\n",
       "      <td>3.0</td>\n",
       "      <td>1.0</td>\n",
       "      <td>1</td>\n",
       "      <td>178.0</td>\n",
       "      <td>99.0</td>\n",
       "      <td>79.0</td>\n",
       "      <td>143.0</td>\n",
       "      <td>0.0</td>\n",
       "      <td>0.0</td>\n",
       "      <td>0.0</td>\n",
       "      <td>...</td>\n",
       "      <td>0.0</td>\n",
       "      <td>NaN</td>\n",
       "      <td>3.080884</td>\n",
       "      <td>55</td>\n",
       "      <td>38.3</td>\n",
       "      <td>1</td>\n",
       "      <td>1</td>\n",
       "      <td>0</td>\n",
       "      <td>1</td>\n",
       "      <td>0</td>\n",
       "    </tr>\n",
       "    <tr>\n",
       "      <th>1</th>\n",
       "      <td>3.0</td>\n",
       "      <td>3.0</td>\n",
       "      <td>1</td>\n",
       "      <td>145.0</td>\n",
       "      <td>95.0</td>\n",
       "      <td>68.0</td>\n",
       "      <td>127.0</td>\n",
       "      <td>0.0</td>\n",
       "      <td>0.0</td>\n",
       "      <td>0.0</td>\n",
       "      <td>...</td>\n",
       "      <td>NaN</td>\n",
       "      <td>1.0</td>\n",
       "      <td>3.182803</td>\n",
       "      <td>77</td>\n",
       "      <td>39.0</td>\n",
       "      <td>2</td>\n",
       "      <td>1</td>\n",
       "      <td>0</td>\n",
       "      <td>1</td>\n",
       "      <td>0</td>\n",
       "    </tr>\n",
       "    <tr>\n",
       "      <th>2</th>\n",
       "      <td>3.0</td>\n",
       "      <td>1.0</td>\n",
       "      <td>1</td>\n",
       "      <td>180.0</td>\n",
       "      <td>99.0</td>\n",
       "      <td>83.0</td>\n",
       "      <td>130.0</td>\n",
       "      <td>0.0</td>\n",
       "      <td>0.0</td>\n",
       "      <td>0.0</td>\n",
       "      <td>...</td>\n",
       "      <td>NaN</td>\n",
       "      <td>NaN</td>\n",
       "      <td>3.004954</td>\n",
       "      <td>48</td>\n",
       "      <td>39.2</td>\n",
       "      <td>1</td>\n",
       "      <td>0</td>\n",
       "      <td>0</td>\n",
       "      <td>0</td>\n",
       "      <td>0</td>\n",
       "    </tr>\n",
       "    <tr>\n",
       "      <th>3</th>\n",
       "      <td>2.0</td>\n",
       "      <td>3.0</td>\n",
       "      <td>2</td>\n",
       "      <td>155.0</td>\n",
       "      <td>97.0</td>\n",
       "      <td>78.0</td>\n",
       "      <td>145.0</td>\n",
       "      <td>0.0</td>\n",
       "      <td>0.0</td>\n",
       "      <td>0.0</td>\n",
       "      <td>...</td>\n",
       "      <td>NaN</td>\n",
       "      <td>NaN</td>\n",
       "      <td>3.148846</td>\n",
       "      <td>66</td>\n",
       "      <td>32.0</td>\n",
       "      <td>2</td>\n",
       "      <td>0</td>\n",
       "      <td>0</td>\n",
       "      <td>1</td>\n",
       "      <td>0</td>\n",
       "    </tr>\n",
       "    <tr>\n",
       "      <th>4</th>\n",
       "      <td>3.0</td>\n",
       "      <td>1.0</td>\n",
       "      <td>1</td>\n",
       "      <td>179.0</td>\n",
       "      <td>107.0</td>\n",
       "      <td>85.0</td>\n",
       "      <td>128.0</td>\n",
       "      <td>0.0</td>\n",
       "      <td>0.0</td>\n",
       "      <td>0.0</td>\n",
       "      <td>...</td>\n",
       "      <td>NaN</td>\n",
       "      <td>1.0</td>\n",
       "      <td>3.301481</td>\n",
       "      <td>63</td>\n",
       "      <td>39.0</td>\n",
       "      <td>1</td>\n",
       "      <td>1</td>\n",
       "      <td>0</td>\n",
       "      <td>1</td>\n",
       "      <td>0</td>\n",
       "    </tr>\n",
       "  </tbody>\n",
       "</table>\n",
       "<p>5 rows × 66 columns</p>\n",
       "</div>"
      ],
      "text/plain": [
       "   educat  MStat  race  height    Hip  DiasBP  SystBP  INSULN1  ISTRD1  NTCA1  \\\n",
       "0     3.0    1.0     1   178.0   99.0    79.0   143.0      0.0     0.0    0.0   \n",
       "1     3.0    3.0     1   145.0   95.0    68.0   127.0      0.0     0.0    0.0   \n",
       "2     3.0    1.0     1   180.0   99.0    83.0   130.0      0.0     0.0    0.0   \n",
       "3     2.0    3.0     2   155.0   97.0    78.0   145.0      0.0     0.0    0.0   \n",
       "4     3.0    1.0     1   179.0  107.0    85.0   128.0      0.0     0.0    0.0   \n",
       "\n",
       "  ...  StpBrt02  SRHype    bmi_s1  age_s1  NECK20  gender  T  B  A  N  \n",
       "0 ...       0.0     NaN  3.080884      55    38.3       1  1  0  1  0  \n",
       "1 ...       NaN     1.0  3.182803      77    39.0       2  1  0  1  0  \n",
       "2 ...       NaN     NaN  3.004954      48    39.2       1  0  0  0  0  \n",
       "3 ...       NaN     NaN  3.148846      66    32.0       2  0  0  1  0  \n",
       "4 ...       NaN     1.0  3.301481      63    39.0       1  1  0  1  0  \n",
       "\n",
       "[5 rows x 66 columns]"
      ]
     },
     "execution_count": 3,
     "metadata": {},
     "output_type": "execute_result"
    }
   ],
   "source": [
    "DataClean.head()"
   ]
  },
  {
   "cell_type": "code",
   "execution_count": 4,
   "metadata": {
    "collapsed": true
   },
   "outputs": [],
   "source": [
    "TargetClean = pd.read_csv('/Users/hurdleman/Google Drive/Insight HD/Projects/Sleep Apnea/TargetClean.csv'\n",
    "                         ,header=None)\n",
    "TargetClean = TargetClean.iloc[:,1]"
   ]
  },
  {
   "cell_type": "code",
   "execution_count": 5,
   "metadata": {},
   "outputs": [
    {
     "data": {
      "image/png": "[encoded data removed]",
      "text/plain": [
       "<matplotlib.figure.Figure at 0x1090d97b8>"
      ]
     },
     "metadata": {},
     "output_type": "display_data"
    }
   ],
   "source": [
    "histTarget = plt.hist(TargetClean)"
   ]
  },
  {
   "cell_type": "code",
   "execution_count": 6,
   "metadata": {
    "scrolled": true
   },
   "outputs": [
    {
     "data": {
      "image/png": "[encoded data removed]",
      "text/plain": [
       "<matplotlib.figure.Figure at 0x1090d96d8>"
      ]
     },
     "metadata": {},
     "output_type": "display_data"
    }
   ],
   "source": [
    "TargetCleanClass5 = []\n",
    "for ii in range(TargetClean.shape[0]):\n",
    "    if TargetClean[ii] < 5:\n",
    "        TargetCleanClass5.append(0)\n",
    "    else:\n",
    "        TargetCleanClass5.append(1)\n",
    "histTarget5 = plt.hist(TargetCleanClass5)"
   ]
  },
  {
   "cell_type": "code",
   "execution_count": 7,
   "metadata": {
    "collapsed": true
   },
   "outputs": [],
   "source": [
    "# Make a train/test split using 20% test size\n",
    "X_train, X_test, y_train5, y_test5 , y_trainSW, y_testSW = train_test_split(\n",
    "    DataClean, TargetCleanClass5,  TargetClean, test_size=0.20, random_state=11)"
   ]
  },
  {
   "cell_type": "code",
   "execution_count": 8,
   "metadata": {
    "collapsed": true
   },
   "outputs": [],
   "source": [
    "imp = Imputer(missing_values='NaN', strategy='median', axis=0)\n",
    "imp.fit(X_train)\n",
    "X_train = imp.transform(X_train)\n",
    "scaler = MinMaxScaler()\n",
    "X_train = scaler.fit_transform(X_train)\n",
    "\n",
    "imp = Imputer(missing_values='NaN', strategy='median', axis=0)\n",
    "imp.fit(X_test)\n",
    "X_test = imp.transform(X_test)\n",
    "X_test = scaler.transform(X_test)"
   ]
  },
  {
   "cell_type": "code",
   "execution_count": 9,
   "metadata": {},
   "outputs": [
    {
     "name": "stdout",
     "output_type": "stream",
     "text": [
      "Optimal number of features : 14\n"
     ]
    }
   ],
   "source": [
    "from sklearn.model_selection import StratifiedKFold\n",
    "from sklearn.feature_selection import RFECV\n",
    "\n",
    "LReg = LogisticRegression(class_weight='balanced')\n",
    "rfecv = RFECV(estimator=LReg, step=1, cv=StratifiedKFold(10),\n",
    "              scoring='roc_auc')\n",
    "rfecv.fit(X_train, y_train5)\n",
    "print(\"Optimal number of features : %d\" % rfecv.n_features_)"
   ]
  },
  {
   "cell_type": "code",
   "execution_count": 52,
   "metadata": {},
   "outputs": [
    {
     "data": {
      "image/png": "[encoded data removed]",
      "text/plain": [
       "<matplotlib.figure.Figure at 0x11f78fac8>"
      ]
     },
     "metadata": {},
     "output_type": "display_data"
    }
   ],
   "source": [
    "plt.figure()\n",
    "\n",
    "plt.plot(range(1, len(rfecv.grid_scores_) + 1), rfecv.grid_scores_)\n",
    "plt.xlabel(\"Number of features selected\", fontsize= 15)\n",
    "plt.ylabel(\"Cross validation score \\n(# of correct classifications)\", fontsize= 15)\n",
    "plt.tight_layout()\n",
    "\n",
    "\n",
    "plt.savefig('/Users/hurdleman/Google Drive/Insight HD/Projects/Sleep Apnea/figure/RFECV_LReg.png',\n",
    "           dpi = 300)"
   ]
  },
  {
   "cell_type": "code",
   "execution_count": 11,
   "metadata": {
    "collapsed": true
   },
   "outputs": [],
   "source": [
    "# LReg = LogisticRegression(class_weight='balanced')\n",
    "# rfe = RFE(estimator=LReg, n_features_to_select=17, step=1)\n",
    "# rfe.fit(X_train, y_train5)\n",
    "# # ranking = rfe.ranking_.reshape(digits.images[0].shape)"
   ]
  },
  {
   "cell_type": "code",
   "execution_count": 12,
   "metadata": {},
   "outputs": [
    {
     "data": {
      "text/plain": [
       "(array([ 4,  8, 16, 19, 26, 29, 38, 41, 54, 56, 59, 60, 61, 63]),)"
      ]
     },
     "execution_count": 12,
     "metadata": {},
     "output_type": "execute_result"
    }
   ],
   "source": [
    "featureidx = np.where(rfecv.ranking_ == 1)\n",
    "# (array([ 0,  3,  8, 10, 11, 14, 22, 34, 37, 39, 44, 48]),)\n",
    "featureidx"
   ]
  },
  {
   "cell_type": "code",
   "execution_count": 13,
   "metadata": {},
   "outputs": [
    {
     "data": {
      "text/plain": [
       "array([48, 49, 47,  2,  1, 32, 10,  9,  1, 44, 33, 39, 15, 20,  8, 29,  1,\n",
       "       28, 50,  1,  6,  7, 27, 26, 35, 19,  1, 18, 24,  1, 43, 42, 25, 46,\n",
       "        4, 40, 38, 31,  1, 34, 17,  1, 21, 53, 30, 45, 23, 11, 41,  5, 37,\n",
       "       36, 22, 16,  1, 13,  1, 52,  3,  1,  1,  1, 14,  1, 12, 51])"
      ]
     },
     "execution_count": 13,
     "metadata": {},
     "output_type": "execute_result"
    }
   ],
   "source": [
    "rfecv.ranking_"
   ]
  },
  {
   "cell_type": "code",
   "execution_count": 15,
   "metadata": {},
   "outputs": [
    {
     "name": "stdout",
     "output_type": "stream",
     "text": [
      "['Hip' 'ISTRD1' 'CRBRON15' 'PHLEGM15' 'SitRd02' 'HOSnr02' 'BEER10'\n",
      " 'COFFEE10' 'HvSnrd02' 'StpBrt02' 'age_s1' 'NECK20' 'gender' 'B']\n"
     ]
    }
   ],
   "source": [
    "selectedFeatures = DataClean.columns.values[featureidx]\n",
    "print(selectedFeatures)"
   ]
  },
  {
   "cell_type": "code",
   "execution_count": 16,
   "metadata": {},
   "outputs": [
    {
     "data": {
      "text/plain": [
       "66"
      ]
     },
     "execution_count": 16,
     "metadata": {},
     "output_type": "execute_result"
    }
   ],
   "source": [
    "len(DataClean.columns.values)"
   ]
  },
  {
   "cell_type": "code",
   "execution_count": 17,
   "metadata": {},
   "outputs": [
    {
     "data": {
      "text/plain": [
       "(4084, 66)"
      ]
     },
     "execution_count": 17,
     "metadata": {},
     "output_type": "execute_result"
    }
   ],
   "source": [
    "X_train.shape"
   ]
  },
  {
   "cell_type": "code",
   "execution_count": 18,
   "metadata": {
    "collapsed": true
   },
   "outputs": [],
   "source": [
    "X_train15 = X_train[:,rfecv.ranking_ == 1]\n",
    "X_test15 = X_test[:,rfecv.ranking_ == 1]\n",
    "# F2 score\n",
    "# recall\n",
    "# ROC curve"
   ]
  },
  {
   "cell_type": "code",
   "execution_count": 19,
   "metadata": {
    "collapsed": true
   },
   "outputs": [],
   "source": [
    "# clf = svm.SVC(class_weight='balanced',probability = True)\n",
    "clf = LogisticRegression(class_weight='balanced')"
   ]
  },
  {
   "cell_type": "code",
   "execution_count": 20,
   "metadata": {
    "collapsed": true
   },
   "outputs": [],
   "source": [
    "ftwo_scorer = metrics.make_scorer(metrics.fbeta_score, beta=2)\n",
    "Specificity_scorer = metrics.make_scorer(metrics.recall_score, pos_label=0)"
   ]
  },
  {
   "cell_type": "code",
   "execution_count": 21,
   "metadata": {},
   "outputs": [
    {
     "name": "stdout",
     "output_type": "stream",
     "text": [
      "0.7377156165264016\n"
     ]
    }
   ],
   "source": [
    "scores = cross_val_score(clf,X_train15, y_train5, cv = 10, scoring = 'roc_auc')\n",
    "scores\n",
    "print(np.mean(scores))"
   ]
  },
  {
   "cell_type": "code",
   "execution_count": 22,
   "metadata": {
    "collapsed": true
   },
   "outputs": [],
   "source": [
    "clf.fit(X_train15,y_train5)\n",
    "y_predTrain = clf.predict(X_train15)"
   ]
  },
  {
   "cell_type": "code",
   "execution_count": 51,
   "metadata": {
    "scrolled": true
   },
   "outputs": [
    {
     "data": {
      "image/png": "[encoded data removed]",
      "text/plain": [
       "<matplotlib.figure.Figure at 0x11da15828>"
      ]
     },
     "metadata": {},
     "output_type": "display_data"
    }
   ],
   "source": [
    "precision, recall, _ = metrics.precision_recall_curve(y_train5, clf.predict_proba(X_train15)[:,1])\n",
    "\n",
    "plt.step(recall, precision, color='b', alpha=0.2,\n",
    "         where='post')\n",
    "plt.fill_between(recall, precision, step='post', alpha=0.2,\n",
    "                 color='b')\n",
    "\n",
    "plt.xlabel('Recall', fontsize= 15)\n",
    "plt.ylabel('Precision', fontsize= 15)\n",
    "plt.ylim([0.0, 1.0])\n",
    "plt.xlim([0.0, 1.0])\n",
    "plt.savefig('/Users/hurdleman/Google Drive/Insight HD/Projects/Sleep Apnea/figure/LReg_RecallPrecision.png',\n",
    "           dpi = 300)\n",
    "plt.tight_layout()\n",
    "\n",
    "\n",
    "# plt.title('2-class Precision-Recall curve: AP={0:0.2f}'.format(\n",
    "#           average_precision))"
   ]
  },
  {
   "cell_type": "code",
   "execution_count": 24,
   "metadata": {
    "scrolled": true
   },
   "outputs": [
    {
     "name": "stdout",
     "output_type": "stream",
     "text": [
      "[[2071 1103]\n",
      " [ 275  635]]\n"
     ]
    }
   ],
   "source": [
    "confusion_matrix_train = confusion_matrix(y_train5, clf.predict(X_train15))\n",
    "print(confusion_matrix_train)"
   ]
  },
  {
   "cell_type": "code",
   "execution_count": 25,
   "metadata": {},
   "outputs": [
    {
     "name": "stdout",
     "output_type": "stream",
     "text": [
      "recall: 0.698\n",
      "precision: 0.365\n",
      "accuracy: 0.663\n",
      "F2: 0.590\n"
     ]
    }
   ],
   "source": [
    "recalltrain = metrics.recall_score(y_train5, y_predTrain)\n",
    "precisiontrain = metrics.precision_score(y_train5, y_predTrain)\n",
    "accuracytrain = metrics.accuracy_score(y_train5, y_predTrain)\n",
    "f2train = metrics.fbeta_score(y_train5, y_predTrain, beta = 2)\n",
    "print('recall: %.3f' % recalltrain)\n",
    "print('precision: %.3f' % precisiontrain)\n",
    "print('accuracy: %.3f' % accuracytrain)\n",
    "print('F2: %.3f' % f2train)"
   ]
  },
  {
   "cell_type": "code",
   "execution_count": 26,
   "metadata": {},
   "outputs": [
    {
     "name": "stdout",
     "output_type": "stream",
     "text": [
      "{'penalty': ['l1', 'l2'], 'C': [0.001, 0.01, 0.1, 1, 10, 100]}\n"
     ]
    }
   ],
   "source": [
    "from sklearn.model_selection import GridSearchCV\n",
    "penalty = ['l1','l2']\n",
    "C = [0.001,0.01,0.1,1,10,100]\n",
    "# Create the random grid\n",
    "parameters = {'penalty': penalty,\n",
    "               'C': C,}\n",
    "print(parameters)"
   ]
  },
  {
   "cell_type": "code",
   "execution_count": 27,
   "metadata": {
    "scrolled": true
   },
   "outputs": [
    {
     "data": {
      "text/plain": [
       "{'C': 10, 'penalty': 'l2'}"
      ]
     },
     "execution_count": 27,
     "metadata": {},
     "output_type": "execute_result"
    }
   ],
   "source": [
    "# Use the random grid to search for best hyperparameters\n",
    "# First create the base model to tune\n",
    "LReg = LogisticRegression(class_weight='balanced', max_iter = 500)\n",
    "# Random search of parameters, using 3 fold cross validation, \n",
    "# search across 100 different combinations, and use all available cores\n",
    "LReg_GridCV = GridSearchCV(LReg, parameters, scoring = 'roc_auc', cv = 5, verbose=0, n_jobs = -1)\n",
    "# Fit the random search model\n",
    "LReg_GridCV.fit(X_train15, y_train5)\n",
    "LReg_GridCV.best_params_"
   ]
  },
  {
   "cell_type": "code",
   "execution_count": 28,
   "metadata": {},
   "outputs": [
    {
     "name": "stdout",
     "output_type": "stream",
     "text": [
      "{'penalty': ['l1', 'l2'], 'C': [1, 5, 10, 50, 100]}\n"
     ]
    }
   ],
   "source": [
    "penalty = ['l1','l2']\n",
    "C = [1,5, 10, 50, 100]\n",
    "# Create the random grid\n",
    "parameters = {'penalty': penalty,\n",
    "               'C': C,}\n",
    "print(parameters)"
   ]
  },
  {
   "cell_type": "code",
   "execution_count": 29,
   "metadata": {},
   "outputs": [
    {
     "data": {
      "text/plain": [
       "{'C': 5, 'penalty': 'l2'}"
      ]
     },
     "execution_count": 29,
     "metadata": {},
     "output_type": "execute_result"
    }
   ],
   "source": [
    "# Use the random grid to search for best hyperparameters\n",
    "# First create the base model to tune\n",
    "LReg = LogisticRegression(class_weight='balanced', max_iter = 500)\n",
    "# Random search of parameters, using 3 fold cross validation, \n",
    "# search across 100 different combinations, and use all available cores\n",
    "LReg_GridCV = GridSearchCV(LReg, parameters, scoring = 'roc_auc', cv = 5, verbose=0, n_jobs = -1)\n",
    "# Fit the random search model\n",
    "LReg_GridCV.fit(X_train15, y_train5)\n",
    "LReg_GridCV.best_params_"
   ]
  },
  {
   "cell_type": "code",
   "execution_count": 30,
   "metadata": {},
   "outputs": [
    {
     "name": "stdout",
     "output_type": "stream",
     "text": [
      "{'penalty': ['l1', 'l2'], 'C': [1.5, 3, 5, 7, 9]}\n"
     ]
    }
   ],
   "source": [
    "penalty = ['l1','l2']\n",
    "C = [1.5, 3, 5, 7, 9]\n",
    "# Create the random grid\n",
    "parameters = {'penalty': penalty,\n",
    "               'C': C,}\n",
    "print(parameters)"
   ]
  },
  {
   "cell_type": "code",
   "execution_count": 31,
   "metadata": {},
   "outputs": [
    {
     "data": {
      "text/plain": [
       "{'C': 3, 'penalty': 'l2'}"
      ]
     },
     "execution_count": 31,
     "metadata": {},
     "output_type": "execute_result"
    }
   ],
   "source": [
    "# Use the random grid to search for best hyperparameters\n",
    "# First create the base model to tune\n",
    "LReg = LogisticRegression(class_weight='balanced', max_iter = 500)\n",
    "# Random search of parameters, using 3 fold cross validation, \n",
    "# search across 100 different combinations, and use all available cores\n",
    "LReg_GridCV = GridSearchCV(LReg, parameters, scoring = 'f1', cv = 5, verbose=0, n_jobs = -1)\n",
    "# Fit the random search model\n",
    "LReg_GridCV.fit(X_train15, y_train5)\n",
    "LReg_GridCV.best_params_"
   ]
  },
  {
   "cell_type": "code",
   "execution_count": 32,
   "metadata": {
    "collapsed": true
   },
   "outputs": [],
   "source": [
    "# clf = svm.SVC(class_weight='balanced',probability = True)\n",
    "clfTuned = LReg_GridCV.best_estimator_"
   ]
  },
  {
   "cell_type": "code",
   "execution_count": 33,
   "metadata": {
    "collapsed": true
   },
   "outputs": [],
   "source": [
    "clfTuned.fit(X_train15,y_train5)\n",
    "y_predTrain = clfTuned.predict(X_train15)"
   ]
  },
  {
   "cell_type": "code",
   "execution_count": 34,
   "metadata": {
    "collapsed": true
   },
   "outputs": [],
   "source": [
    "coefs = clfTuned.coef_"
   ]
  },
  {
   "cell_type": "code",
   "execution_count": 35,
   "metadata": {},
   "outputs": [
    {
     "data": {
      "text/plain": [
       "array(['Hip', 'ISTRD1', 'CRBRON15', 'PHLEGM15', 'SitRd02', 'HOSnr02',\n",
       "       'BEER10', 'COFFEE10', 'HvSnrd02', 'StpBrt02', 'age_s1', 'NECK20',\n",
       "       'gender', 'B'], dtype=object)"
      ]
     },
     "execution_count": 35,
     "metadata": {},
     "output_type": "execute_result"
    }
   ],
   "source": [
    "DataClean.columns.values[rfecv.ranking_ == 1]"
   ]
  },
  {
   "cell_type": "code",
   "execution_count": 36,
   "metadata": {},
   "outputs": [
    {
     "data": {
      "text/plain": [
       "array([ 1.88549515, -0.74125599, -0.54501923, -0.35929991,  0.50782364,\n",
       "        1.59903606,  0.91087152, -0.74302205,  0.61205136,  0.53181342,\n",
       "        2.83519585,  1.49662545, -0.71378025,  0.48112996])"
      ]
     },
     "execution_count": 36,
     "metadata": {},
     "output_type": "execute_result"
    }
   ],
   "source": [
    "clfTuned.coef_[0]"
   ]
  },
  {
   "cell_type": "code",
   "execution_count": 37,
   "metadata": {
    "collapsed": true
   },
   "outputs": [],
   "source": [
    "top_three = np.argpartition(coefs, 3)[-3:]\n",
    "bottom_three = np.argpartition(coefs, 3)[0:3]"
   ]
  },
  {
   "cell_type": "code",
   "execution_count": 38,
   "metadata": {
    "scrolled": true
   },
   "outputs": [
    {
     "name": "stdout",
     "output_type": "stream",
     "text": [
      "[ 7  1 12  2  3 13  4  9  8  6 11  5  0 10]\n",
      "[10  0  5 11  6  8  9  4 13  3  2 12  1  7]\n"
     ]
    }
   ],
   "source": [
    "idx = np.argsort(clfTuned.coef_[0])\n",
    "print(idx)\n",
    "print(np.flip(idx,axis = 0))"
   ]
  },
  {
   "cell_type": "code",
   "execution_count": 39,
   "metadata": {
    "scrolled": true
   },
   "outputs": [
    {
     "data": {
      "text/plain": [
       "array(['age_s1', 'Hip', 'HOSnr02', 'NECK20', 'BEER10', 'HvSnrd02',\n",
       "       'StpBrt02', 'SitRd02', 'B', 'PHLEGM15', 'CRBRON15', 'gender',\n",
       "       'ISTRD1', 'COFFEE10'], dtype=object)"
      ]
     },
     "execution_count": 39,
     "metadata": {},
     "output_type": "execute_result"
    }
   ],
   "source": [
    "selectedFeatures[np.flip(idx,axis = 0)]"
   ]
  },
  {
   "cell_type": "code",
   "execution_count": 40,
   "metadata": {},
   "outputs": [
    {
     "name": "stderr",
     "output_type": "stream",
     "text": [
      "/Users/hurdleman/anaconda/lib/python3.6/site-packages/seaborn/categorical.py:1428: FutureWarning: remove_na is deprecated and is a private function. Do not use.\n",
      "  stat_data = remove_na(group_data)\n"
     ]
    },
    {
     "data": {
      "image/png": "[encoded data removed]",
      "text/plain": [
       "<matplotlib.figure.Figure at 0x11e98d160>"
      ]
     },
     "metadata": {},
     "output_type": "display_data"
    }
   ],
   "source": [
    "# Generate some sequential data\n",
    "idx = np.argsort(clfTuned.coef_[0])\n",
    "idx = np.flip(idx,axis = 0)\n",
    "x = selectedFeatures[idx]\n",
    "y1 = clfTuned.coef_[0][idx]\n",
    "featureImportance = sns.barplot(y = x, x = y1, palette=\"RdBu\")\n",
    "featureImportance.set_xlabel(\"Coefficient\", fontsize= 15)\n",
    "featureImportance.set_yticklabels(['Hip','Age','Snore Freq','Neck','Beer','Snore','Stop Breath','Doze',\n",
    "                                   'BMI > 35','Phlegm','Bronchitis','Gender','Asthma','Coffee'], fontsize= 15)\n",
    "\n",
    "for item in featureImportance.get_xticklabels():\n",
    "    item.set_fontsize(14)\n",
    "plt.tight_layout()\n",
    "plt.savefig('/Users/hurdleman/Google Drive/Insight HD/Projects/Sleep Apnea/figure/LReg_train_FeatureImportance.png',\n",
    "           dpi = 300)"
   ]
  },
  {
   "cell_type": "code",
   "execution_count": 40,
   "metadata": {},
   "outputs": [
    {
     "data": {
      "text/plain": [
       "['/Users/hurdleman/Google Drive/Insight HD/flask/model/LReg_tuned.pkl']"
      ]
     },
     "execution_count": 40,
     "metadata": {},
     "output_type": "execute_result"
    }
   ],
   "source": [
    "from sklearn.externals import joblib\n",
    "joblib.dump(clfTuned, \"/Users/hurdleman/Google Drive/Insight HD/flask/model/LReg_tuned.pkl\")"
   ]
  },
  {
   "cell_type": "code",
   "execution_count": 41,
   "metadata": {
    "collapsed": true,
    "scrolled": true
   },
   "outputs": [],
   "source": [
    "recalltrain = cross_val_score(clfTuned,X_train15, y_train5, cv = 10, n_jobs = -1, scoring = 'recall')\n",
    "specificitytrain = cross_val_score(clfTuned,X_train15, y_train5, cv = 10, n_jobs = -1, scoring = Specificity_scorer)\n",
    "precisiontrain = cross_val_score(clfTuned,X_train15, y_train5, cv = 10, n_jobs = -1, scoring = 'precision')\n",
    "accuracytrain = cross_val_score(clfTuned,X_train15, y_train5, cv = 10, n_jobs = -1, scoring = 'accuracy')\n",
    "f2train = cross_val_score(clfTuned,X_train15, y_train5, cv = 10, n_jobs = -1, scoring = ftwo_scorer)"
   ]
  },
  {
   "cell_type": "code",
   "execution_count": 42,
   "metadata": {
    "scrolled": true
   },
   "outputs": [
    {
     "name": "stdout",
     "output_type": "stream",
     "text": [
      "recall: 0.689\n",
      "specificity: 0.654\n",
      "precision: 0.364\n",
      "accuracy: 0.662\n",
      "F2: 0.584\n"
     ]
    }
   ],
   "source": [
    "print('recall: %.3f' % np.mean(recalltrain))\n",
    "print('specificity: %.3f' % np.mean(specificitytrain))\n",
    "print('precision: %.3f' % np.mean(precisiontrain))\n",
    "print('accuracy: %.3f' % np.mean(accuracytrain))\n",
    "print('F2: %.3f' % np.mean(f2train))"
   ]
  },
  {
   "cell_type": "code",
   "execution_count": 43,
   "metadata": {},
   "outputs": [
    {
     "data": {
      "image/png": "[encoded data removed]",
      "text/plain": [
       "<matplotlib.figure.Figure at 0x107712940>"
      ]
     },
     "metadata": {},
     "output_type": "display_data"
    }
   ],
   "source": [
    "from scipy import interp\n",
    "from itertools import cycle\n",
    "\n",
    "from sklearn.metrics import roc_curve, auc\n",
    "from sklearn.model_selection import StratifiedKFold\n",
    "\n",
    "n_samples, n_features = X_train15.shape\n",
    "y_train5 = np.asarray(y_train5)\n",
    "# #############################################################################\n",
    "# Classification and ROC analysis\n",
    "\n",
    "# Run classifier with cross-validation and plot ROC curves\n",
    "cv = StratifiedKFold(n_splits=6)\n",
    "classifier = LReg_GridCV.best_estimator_\n",
    "\n",
    "tprs = []\n",
    "aucs = []\n",
    "mean_fpr = np.linspace(0, 1, 100)\n",
    "\n",
    "i = 0\n",
    "for train, test in cv.split(X_train15, y_train5):\n",
    "    probas_ = classifier.fit(X_train15[train], y_train5[train]).predict_proba(X_train15[test])\n",
    "    # Compute ROC curve and area the curve\n",
    "    fpr, tpr, thresholds = roc_curve(y_train5[test], probas_[:, 1])\n",
    "    tprs.append(interp(mean_fpr, fpr, tpr))\n",
    "    tprs[-1][0] = 0.0\n",
    "    roc_auc = auc(fpr, tpr)\n",
    "    aucs.append(roc_auc)\n",
    "#     plt.plot(fpr, tpr, lw=1, alpha=0.3,\n",
    "#              label='ROC fold %d (AUC = %0.2f)' % (i, roc_auc))\n",
    "\n",
    "    i += 1\n",
    "plt.plot([0, 1], [0, 1], linestyle='--', lw=2, color='r',\n",
    "         label='Luck', alpha=.8)\n",
    "\n",
    "mean_tpr = np.mean(tprs, axis=0)\n",
    "mean_tpr[-1] = 1.0\n",
    "mean_auc = auc(mean_fpr, mean_tpr)\n",
    "std_auc = np.std(aucs)\n",
    "plt.plot(mean_fpr, mean_tpr, color='b',\n",
    "         label=r'Mean ROC (AUC = %0.2f $\\pm$ %0.2f)' % (mean_auc, std_auc),\n",
    "         lw=2, alpha=.8)\n",
    "\n",
    "std_tpr = np.std(tprs, axis=0)\n",
    "tprs_upper = np.minimum(mean_tpr + std_tpr, 1)\n",
    "tprs_lower = np.maximum(mean_tpr - std_tpr, 0)\n",
    "plt.fill_between(mean_fpr, tprs_lower, tprs_upper, color='grey', alpha=.2,\n",
    "                 label=r'$\\pm$ 1 std. dev.')\n",
    "\n",
    "plt.xlim([-0.05, 1.05])\n",
    "plt.ylim([-0.05, 1.05])\n",
    "plt.xlabel('False Positive Rate \\n(1-Specificity)', fontsize= 15)\n",
    "plt.ylabel('True Positive Rate \\n(Sensitivity)', fontsize= 15)\n",
    "plt.title('Receiver operating characteristic curve', fontsize= 16)\n",
    "plt.legend(loc=\"lower right\", fontsize= 12)\n",
    "plt.savefig('/Users/hurdleman/Google Drive/Insight HD/Projects/Sleep Apnea/figure/ROC_LReg_train.png',\n",
    "           dpi = 300)"
   ]
  },
  {
   "cell_type": "code",
   "execution_count": 44,
   "metadata": {
    "collapsed": true
   },
   "outputs": [],
   "source": [
    "y_predTest = clfTuned.predict(X_test15)"
   ]
  },
  {
   "cell_type": "code",
   "execution_count": 45,
   "metadata": {},
   "outputs": [
    {
     "name": "stdout",
     "output_type": "stream",
     "text": [
      "recall: 0.731\n",
      "precision: 0.351\n",
      "accuracy: 0.670\n",
      "F2: 0.601\n"
     ]
    }
   ],
   "source": [
    "recalltest = metrics.recall_score(y_test5, y_predTest)\n",
    "precisiontest = metrics.precision_score(y_test5, y_predTest)\n",
    "accuracytest = metrics.accuracy_score(y_test5, y_predTest)\n",
    "f2test = metrics.fbeta_score(y_test5, y_predTest, beta = 2)\n",
    "print('recall: %.3f' % recalltest)\n",
    "print('precision: %.3f' % precisiontest)\n",
    "print('accuracy: %.3f' % accuracytest)\n",
    "print('F2: %.3f' % f2test)"
   ]
  },
  {
   "cell_type": "code",
   "execution_count": 46,
   "metadata": {
    "collapsed": true
   },
   "outputs": [],
   "source": [
    "CM_clfTuned_test = confusion_matrix(y_test5, y_predTest)"
   ]
  },
  {
   "cell_type": "code",
   "execution_count": 47,
   "metadata": {
    "scrolled": true
   },
   "outputs": [
    {
     "data": {
      "text/plain": [
       "array([[533, 281],\n",
       "       [ 56, 152]])"
      ]
     },
     "execution_count": 47,
     "metadata": {},
     "output_type": "execute_result"
    }
   ],
   "source": [
    "CM_clfTuned_test"
   ]
  },
  {
   "cell_type": "code",
   "execution_count": 48,
   "metadata": {},
   "outputs": [
    {
     "name": "stdout",
     "output_type": "stream",
     "text": [
      "             precision    recall  f1-score   support\n",
      "\n",
      "          0       0.90      0.65      0.76       814\n",
      "          1       0.35      0.73      0.47       208\n",
      "\n",
      "avg / total       0.79      0.67      0.70      1022\n",
      "\n"
     ]
    }
   ],
   "source": [
    "print(metrics.classification_report(y_test5, clfTuned.predict(X_test15)))"
   ]
  },
  {
   "cell_type": "code",
   "execution_count": null,
   "metadata": {
    "collapsed": true
   },
   "outputs": [],
   "source": []
  },
  {
   "cell_type": "code",
   "execution_count": 49,
   "metadata": {},
   "outputs": [
    {
     "data": {
      "image/png": "[encoded data removed]",
      "text/plain": [
       "<matplotlib.figure.Figure at 0x11a6c7f60>"
      ]
     },
     "metadata": {},
     "output_type": "display_data"
    }
   ],
   "source": [
    "from sklearn.metrics import roc_auc_score\n",
    "from sklearn.metrics import roc_curve\n",
    "logit_roc_auc = roc_auc_score(y_test5, clfTuned.predict(X_test15))\n",
    "fpr, tpr, thresholds = roc_curve(y_test5, clfTuned.predict_proba(X_test15)[:,1])\n",
    "plt.figure()\n",
    "plt.plot(fpr, tpr, label='Logistic Regression (area = %0.2f)' % logit_roc_auc)\n",
    "plt.plot([0, 1], [0, 1],'r--')\n",
    "plt.xlim([0.0, 1.0])\n",
    "plt.ylim([0.0, 1.05])\n",
    "plt.xlabel('False Positive Rate \\n(1-Specificity)', fontsize= 15)\n",
    "plt.ylabel('True Positive Rate \\n(Sensitivity)', fontsize= 15)\n",
    "plt.title('Receiver operating characteristic curve', fontsize= 16)\n",
    "plt.legend(loc=\"lower right\", fontsize= 12)\n",
    "plt.savefig('/Users/hurdleman/Google Drive/Insight HD/Projects/Sleep Apnea/figure/ROC_LReg_test.png',\n",
    "           dpi = 300)"
   ]
  },
  {
   "cell_type": "code",
   "execution_count": 50,
   "metadata": {},
   "outputs": [
    {
     "name": "stderr",
     "output_type": "stream",
     "text": [
      "/Users/hurdleman/anaconda/lib/python3.6/site-packages/ipykernel_launcher.py:33: MatplotlibDeprecationWarning: pyplot.hold is deprecated.\n",
      "    Future behavior will be consistent with the long-time default:\n",
      "    plot commands add elements without first clearing the\n",
      "    Axes and/or Figure.\n",
      "/Users/hurdleman/anaconda/lib/python3.6/site-packages/matplotlib/__init__.py:805: MatplotlibDeprecationWarning: axes.hold is deprecated. Please remove it from your matplotlibrc and/or style files.\n",
      "  mplDeprecation)\n",
      "/Users/hurdleman/anaconda/lib/python3.6/site-packages/matplotlib/rcsetup.py:155: MatplotlibDeprecationWarning: axes.hold is deprecated, will be removed in 3.0\n",
      "  mplDeprecation)\n",
      "/Users/hurdleman/anaconda/lib/python3.6/site-packages/ipykernel_launcher.py:56: MatplotlibDeprecationWarning: pyplot.hold is deprecated.\n",
      "    Future behavior will be consistent with the long-time default:\n",
      "    plot commands add elements without first clearing the\n",
      "    Axes and/or Figure.\n",
      "/Users/hurdleman/anaconda/lib/python3.6/site-packages/matplotlib/__init__.py:805: MatplotlibDeprecationWarning: axes.hold is deprecated. Please remove it from your matplotlibrc and/or style files.\n",
      "  mplDeprecation)\n",
      "/Users/hurdleman/anaconda/lib/python3.6/site-packages/matplotlib/rcsetup.py:155: MatplotlibDeprecationWarning: axes.hold is deprecated, will be removed in 3.0\n",
      "  mplDeprecation)\n"
     ]
    },
    {
     "data": {
      "image/png": "[encoded data removed]",
      "text/plain": [
       "<matplotlib.figure.Figure at 0x11ea8ecf8>"
      ]
     },
     "metadata": {},
     "output_type": "display_data"
    }
   ],
   "source": [
    "from scipy import interp\n",
    "from itertools import cycle\n",
    "\n",
    "from sklearn.metrics import roc_curve, auc\n",
    "from sklearn.model_selection import StratifiedKFold\n",
    "\n",
    "n_samples, n_features = X_train15.shape\n",
    "y_train5 = np.asarray(y_train5)\n",
    "# #############################################################################\n",
    "# Classification and ROC analysis\n",
    "\n",
    "# Run classifier with cross-validation and plot ROC curves\n",
    "cv = StratifiedKFold(n_splits=6)\n",
    "classifier = LReg_GridCV.best_estimator_\n",
    "\n",
    "tprs = []\n",
    "aucs = []\n",
    "mean_fpr = np.linspace(0, 1, 100)\n",
    "\n",
    "i = 0\n",
    "for train, test in cv.split(X_train15, y_train5):\n",
    "    probas_ = classifier.fit(X_train15[train], y_train5[train]).predict_proba(X_train15[test])\n",
    "    # Compute ROC curve and area the curve\n",
    "    fpr, tpr, thresholds = roc_curve(y_train5[test], probas_[:, 1])\n",
    "    tprs.append(interp(mean_fpr, fpr, tpr))\n",
    "    tprs[-1][0] = 0.0\n",
    "    roc_auc = auc(fpr, tpr)\n",
    "    aucs.append(roc_auc)\n",
    "#     plt.plot(fpr, tpr, lw=1, alpha=0.3,\n",
    "#              label='ROC fold %d (AUC = %0.2f)' % (i, roc_auc))\n",
    "\n",
    "    i += 1\n",
    "plt.hold(True)\n",
    "\n",
    "\n",
    "plt.plot([0, 1], [0, 1], linestyle='--', lw=2, color='r',\n",
    "         label='Luck', alpha=.8)\n",
    "\n",
    "mean_tpr = np.mean(tprs, axis=0)\n",
    "mean_tpr[-1] = 1.0\n",
    "mean_auc = auc(mean_fpr, mean_tpr)\n",
    "std_auc = np.std(aucs)\n",
    "plt.plot(mean_fpr, mean_tpr, color='b',\n",
    "         label=r'Train ROC with CV (AUC = %0.2f $\\pm$ %0.2f)' % (mean_auc, std_auc),\n",
    "         lw=2, alpha=.8)\n",
    "\n",
    "std_tpr = np.std(tprs, axis=0)\n",
    "tprs_upper = np.minimum(mean_tpr + std_tpr, 1)\n",
    "tprs_lower = np.maximum(mean_tpr - std_tpr, 0)\n",
    "# plt.fill_between(mean_fpr, tprs_lower, tprs_upper, color='grey', alpha=.2,\n",
    "#                  label=r'$\\pm$ 1 std. dev.')\n",
    "plt.fill_between(mean_fpr, tprs_lower, tprs_upper, color='grey', alpha=.2)\n",
    "logit_roc_auc = roc_auc_score(y_test5, clfTuned.predict(X_test15))\n",
    "fpr, tpr, thresholds = roc_curve(y_test5, clfTuned.predict_proba(X_test15)[:,1])\n",
    "plt.plot(fpr, tpr, label='Test ROC (AUC = %0.2f)' % logit_roc_auc)\n",
    "plt.hold(False)\n",
    "plt.xlim([-0.05, 1.05])\n",
    "plt.ylim([-0.05, 1.05])\n",
    "plt.xlabel('False Positive Rate \\n(1-Specificity)', fontsize= 15)\n",
    "plt.ylabel('True Positive Rate \\n(Sensitivity)', fontsize= 15)\n",
    "plt.title('Receiver operating characteristic', fontsize= 16)\n",
    "plt.legend(loc=\"lower right\", fontsize= 11)\n",
    "plt.tight_layout()\n",
    "plt.savefig('/Users/hurdleman/Google Drive/Insight HD/Projects/Sleep Apnea/figure/ROC_LReg_Overlay.png',\n",
    "           dpi = 300)"
   ]
  },
  {
   "cell_type": "code",
   "execution_count": null,
   "metadata": {
    "collapsed": true
   },
   "outputs": [],
   "source": [
    "#https://towardsdatascience.com/building-a-logistic-regression-in-python-step-by-step-becd4d56c9c8"
   ]
  },
  {
   "cell_type": "code",
   "execution_count": 51,
   "metadata": {
    "collapsed": true
   },
   "outputs": [],
   "source": [
    "# Build a MinMaxScaler for selected features\n",
    "X_train1, X_test1 = train_test_split(\n",
    "    DataClean, test_size=0.20, random_state=11)"
   ]
  },
  {
   "cell_type": "code",
   "execution_count": 52,
   "metadata": {
    "collapsed": true
   },
   "outputs": [],
   "source": [
    "imp = Imputer(missing_values='NaN', strategy='median', axis=0)\n",
    "\n",
    "X_train1 = imp.fit_transform(X_train1)\n",
    "X_train1 = X_train1[:,rfecv.ranking_ == 1]\n",
    "\n",
    "scaler4flask = MinMaxScaler()\n",
    "X_train1 = scaler4flask.fit_transform(X_train1)"
   ]
  },
  {
   "cell_type": "code",
   "execution_count": 53,
   "metadata": {},
   "outputs": [
    {
     "data": {
      "text/plain": [
       "0"
      ]
     },
     "execution_count": 53,
     "metadata": {},
     "output_type": "execute_result"
    }
   ],
   "source": [
    "# check if two array matches\n",
    "check = X_train1 == X_train15\n",
    "np.size(check) - np.count_nonzero(check)"
   ]
  },
  {
   "cell_type": "code",
   "execution_count": 54,
   "metadata": {},
   "outputs": [
    {
     "data": {
      "text/plain": [
       "['/Users/hurdleman/Google Drive/Insight HD/flask/model/FeatureScaler.pkl']"
      ]
     },
     "execution_count": 54,
     "metadata": {},
     "output_type": "execute_result"
    }
   ],
   "source": [
    "from sklearn.externals import joblib\n",
    "joblib.dump(scaler4flask, \"/Users/hurdleman/Google Drive/Insight HD/flask/model/FeatureScaler.pkl\")"
   ]
  },
  {
   "cell_type": "code",
   "execution_count": 55,
   "metadata": {},
   "outputs": [
    {
     "data": {
      "text/plain": [
       "array([[ 1.51607521, -0.75045493, -0.48873875, -0.30700364,  0.51276521,\n",
       "         1.57978343,  0.86494872, -0.92173646,  0.54913271,  0.56875288,\n",
       "         2.77645705,  1.45997746, -0.70926113,  0.41590242]])"
      ]
     },
     "execution_count": 55,
     "metadata": {},
     "output_type": "execute_result"
    }
   ],
   "source": [
    "clfTuned.coef_"
   ]
  },
  {
   "cell_type": "code",
   "execution_count": null,
   "metadata": {
    "collapsed": true
   },
   "outputs": [],
   "source": [
    "from sklearn.externals import joblib\n",
    "clfTuned = joblib.load(\"/Users/hurdleman/Google Drive/Insight HD/flask/model/LReg_tuned.pkl\")"
   ]
  },
  {
   "cell_type": "code",
   "execution_count": null,
   "metadata": {
    "collapsed": true
   },
   "outputs": [],
   "source": [
    "# ['Hip', 'ISTRD1', 'CRBRON15', 'PHLEGM15', 'SitRd02', 'HOSnr02',\n",
    "#        'BEER10', 'COFFEE10', 'HvSnrd02', 'StpBrt02', 'age_s1', 'NECK20',\n",
    "#        'gender', 'B']\n"
   ]
  },
  {
   "cell_type": "code",
   "execution_count": 155,
   "metadata": {
    "collapsed": true
   },
   "outputs": [],
   "source": [
    "Hip = 60*2.54\n",
    "ISTRD1 = 0 \n",
    "CRBRON15 = 0\n",
    "PHLEGM15 = 0\n",
    "SitRd02 = 1\n",
    "HOSnr02 = 1\n",
    "BEER10 = 0\n",
    "COFFEE10 = 0\n",
    "HvSnrd02 = 1\n",
    "StpBrt02 = 1\n",
    "age_s1 = 60\n",
    "NECK20 = 20*2.54\n",
    "gender = 1\n",
    "B = 0\n",
    "me = [Hip,ISTRD1,CRBRON15,PHLEGM15,SitRd02,HOSnr02,BEER10,COFFEE10,HvSnrd02,StpBrt02,age_s1,NECK20,gender,B]\n",
    "me = np.reshape(me, (1,14))"
   ]
  },
  {
   "cell_type": "code",
   "execution_count": 156,
   "metadata": {
    "collapsed": true
   },
   "outputs": [],
   "source": [
    "me = scaler4flask.transform(me)"
   ]
  },
  {
   "cell_type": "code",
   "execution_count": 157,
   "metadata": {
    "scrolled": true
   },
   "outputs": [
    {
     "data": {
      "text/plain": [
       "array([[ 1.88549515, -0.74125599, -0.54501923, -0.35929991,  0.50782364,\n",
       "         1.59903606,  0.91087152, -0.74302205,  0.61205136,  0.53181342,\n",
       "         2.83519585,  1.49662545, -0.71378025,  0.48112996]])"
      ]
     },
     "execution_count": 157,
     "metadata": {},
     "output_type": "execute_result"
    }
   ],
   "source": [
    "clfTuned.coef_"
   ]
  },
  {
   "cell_type": "code",
   "execution_count": null,
   "metadata": {
    "collapsed": true
   },
   "outputs": [],
   "source": []
  },
  {
   "cell_type": "code",
   "execution_count": 158,
   "metadata": {},
   "outputs": [
    {
     "data": {
      "text/plain": [
       "array([[0.12936871, 0.        , 0.        , 0.        , 0.        ,\n",
       "        0.25      , 0.        , 0.        , 1.        , 1.        ,\n",
       "        0.41176471, 0.78181818, 0.        , 0.        ]])"
      ]
     },
     "execution_count": 158,
     "metadata": {},
     "output_type": "execute_result"
    }
   ],
   "source": [
    "me"
   ]
  },
  {
   "cell_type": "code",
   "execution_count": 159,
   "metadata": {},
   "outputs": [
    {
     "data": {
      "text/plain": [
       "array([1])"
      ]
     },
     "execution_count": 159,
     "metadata": {},
     "output_type": "execute_result"
    }
   ],
   "source": [
    "clfTuned.predict(me)"
   ]
  },
  {
   "cell_type": "code",
   "execution_count": null,
   "metadata": {
    "collapsed": true
   },
   "outputs": [],
   "source": [
    "scaler4flask = joblib.load(\"/Users/hurdleman/Google Drive/Insight HD/flask/model/FeatureScaler.pkl\")"
   ]
  },
  {
   "cell_type": "code",
   "execution_count": null,
   "metadata": {
    "collapsed": true
   },
   "outputs": [],
   "source": [
    "# 'Hip' : Hip measurement in centimeters\n",
    "# 'ISTRD1': 0: No; 1: Yes\n",
    "# 'CRBRON15': 0: No; 1: Yes\n",
    "# 'PHLEGM15': 0: No; 1: Yes\n",
    "# 'SitRd02': What is the chance that you would doze off or fall asleep while sitting and reading?\n",
    "# 1: No Chance; \n",
    "# 2: Slight Chance; \n",
    "# 3: Moderate Chance; \n",
    "# 4: High Chance\n",
    "          \n",
    "# 'HOSnr02': How often do you snore?\n",
    "# 0: Do not snore any more\n",
    "# 1: Rarely - (less than one night a week)\n",
    "# 2: Sometimes - (1 or 2 nights a week)\n",
    "# 3: Frequently - (3 to 5 nights a week)\n",
    "# 4: Always or almost always - (6 or 7 nights a week)\n",
    "# 'BEER10': How many bottles or cans of beer 4 hours before going to sleep last night? (number, up to 2 digits)\n",
    "# 'COFFEE10' : How many cups of coffee (with caffeine) 4 hours before going to sleep last night? (number, up to 2 digits)\n",
    "# 'HvSnrd02' \n",
    "# 'StpBrt02' Are there times when you stop breathing during your sleep?\n",
    "# 'age_s1' \n",
    "# 'NECK20' \n",
    "# 'gender' 1: male, 2: female\n",
    "# 'B' BMI > 35? 1: yes. 0: no\n"
   ]
  },
  {
   "cell_type": "code",
   "execution_count": null,
   "metadata": {
    "collapsed": true
   },
   "outputs": [],
   "source": [
    "# Make a train/test split using 20% test size\n",
    "X_trainSub, X_valSub, y_trainSub, y_ValSub = train_test_split(\n",
    "    X_train15, y_train5, test_size=0.20, random_state=11)"
   ]
  },
  {
   "cell_type": "code",
   "execution_count": null,
   "metadata": {
    "collapsed": true
   },
   "outputs": [],
   "source": [
    "def prob2class(preds_proba, threshold):\n",
    "    predProb = []\n",
    "    predClass = []\n",
    "    for pred in range(len(preds_proba)):\n",
    "        predProb.append(preds_proba[pred][1])\n",
    "\n",
    "    for pred in range(len(predProb)):\n",
    "        if predProb[pred] > threshold:\n",
    "            predClass.append(1)\n",
    "        else:\n",
    "            predClass.append(0)\n",
    "    return predClass"
   ]
  },
  {
   "cell_type": "code",
   "execution_count": null,
   "metadata": {
    "collapsed": true
   },
   "outputs": [],
   "source": [
    "clfTuned.fit(X_trainSub,y_trainSub)\n",
    "y_valSubProba = clfTuned.predict_proba(X_valSub)"
   ]
  },
  {
   "cell_type": "code",
   "execution_count": null,
   "metadata": {
    "collapsed": true
   },
   "outputs": [],
   "source": [
    "for threshold in range(0,21):\n",
    "    print(threshold)"
   ]
  },
  {
   "cell_type": "code",
   "execution_count": null,
   "metadata": {
    "collapsed": true
   },
   "outputs": [],
   "source": [
    "sensitivity = []\n",
    "specificity = []\n",
    "for threshold in range(0,21):\n",
    "    predClass = prob2class(y_valSubProba, threshold*0.05)\n",
    "    sensitivity.append(metrics.recall_score(y_ValSub, predClass))\n",
    "    specificity.append(metrics.recall_score(y_ValSub, predClass, pos_label=0))"
   ]
  },
  {
   "cell_type": "code",
   "execution_count": null,
   "metadata": {
    "collapsed": true
   },
   "outputs": [],
   "source": [
    "plt.plot(sensitivity)\n",
    "plt.plot(specificity)\n",
    "plt.show()"
   ]
  },
  {
   "cell_type": "code",
   "execution_count": null,
   "metadata": {
    "collapsed": true
   },
   "outputs": [],
   "source": [
    "predClass"
   ]
  },
  {
   "cell_type": "code",
   "execution_count": null,
   "metadata": {
    "collapsed": true
   },
   "outputs": [],
   "source": [
    "probaPredTest = clfTuned.predict_proba(X_test15)"
   ]
  },
  {
   "cell_type": "code",
   "execution_count": null,
   "metadata": {
    "collapsed": true
   },
   "outputs": [],
   "source": [
    "predTest = probaPredTest > 0.3"
   ]
  },
  {
   "cell_type": "code",
   "execution_count": null,
   "metadata": {
    "collapsed": true
   },
   "outputs": [],
   "source": [
    "predTest[:,1]"
   ]
  },
  {
   "cell_type": "code",
   "execution_count": null,
   "metadata": {
    "collapsed": true
   },
   "outputs": [],
   "source": [
    "predTest = predTest[:,1].astype(int)\n"
   ]
  },
  {
   "cell_type": "code",
   "execution_count": null,
   "metadata": {
    "collapsed": true
   },
   "outputs": [],
   "source": [
    "print(metrics.classification_report(y_test5, predTest))\n",
    "\n"
   ]
  },
  {
   "cell_type": "code",
   "execution_count": null,
   "metadata": {
    "collapsed": true
   },
   "outputs": [],
   "source": []
  }
 ],
 "metadata": {
  "kernelspec": {
   "display_name": "Python 3",
   "language": "python",
   "name": "python3"
  },
  "language_info": {
   "codemirror_mode": {
    "name": "ipython",
    "version": 3
   },
   "file_extension": ".py",
   "mimetype": "text/x-python",
   "name": "python",
   "nbconvert_exporter": "python",
   "pygments_lexer": "ipython3",
   "version": "3.6.1"
  }
 },
 "nbformat": 4,
 "nbformat_minor": 2
}
